{
 "cells": [
  {
   "cell_type": "markdown",
   "metadata": {},
   "source": [
    "Paula Akemi Hasu RA:817126817"
   ]
  },
  {
   "cell_type": "markdown",
   "metadata": {},
   "source": [
    "1 - Escreva uma função que retorne o menor de dois números dados se ambos os números forem pares, mas retorna o maior se um dos dois for ímpar. Exemplo: menor_de_dois_pares(2,4) --> 2 menor_de_dois_pares (2,5) --> 5"
   ]
  },
  {
   "cell_type": "code",
   "execution_count": 2,
   "metadata": {},
   "outputs": [
    {
     "name": "stdout",
     "output_type": "stream",
     "text": [
      "2\n",
      "5\n"
     ]
    }
   ],
   "source": [
    "def menor(num,num2):\n",
    "    if num%2==0 and num2%2==0:\n",
    "        if num2 > num:\n",
    "            print(num)\n",
    "        else:\n",
    "            print(num2)\n",
    "    else:\n",
    "        if num > num2:\n",
    "            print(num)\n",
    "        else:\n",
    "            print(num2)\n",
    "\n",
    "menor(2,4)\n",
    "menor(2,5)"
   ]
  },
  {
   "cell_type": "markdown",
   "metadata": {},
   "source": [
    "2 - Mesma letra: Escreva uma função que receba uma string com duas palavras e retorne True se ambas palavras começarem com a mesma letra. Exemplo: mesma_letra('Cão covarde') -> True mesma_letra('Vira Lata') -> False"
   ]
  },
  {
   "cell_type": "code",
   "execution_count": 3,
   "metadata": {},
   "outputs": [
    {
     "name": "stdout",
     "output_type": "stream",
     "text": [
      "True\n",
      "False\n"
     ]
    }
   ],
   "source": [
    "def mesma_letra(string1):\n",
    "    i = 0\n",
    "    for letra in string1:\n",
    "        if letra ==\"C\" or letra == \" C\":\n",
    "            m = \"True\"\n",
    "            i += 1\n",
    "        else:\n",
    "            m2 = \"False\"\n",
    "    else:\n",
    "        if i == 2:\n",
    "            print(m)\n",
    "        else:\n",
    "            print(m2)\n",
    "\n",
    "mesma_letra(\"Cão Covarde\")\n",
    "mesma_letra(\"Vira Lata\")"
   ]
  },
  {
   "cell_type": "markdown",
   "metadata": {},
   "source": [
    "3 - Mestre Yoda: Dada uma sentença, a função deve retornar a sentença com as palavras na ordem reversa. Exemplo: mestre_yoda('Eu estou em casa') --> 'casa em estou Eu' mestre_yoda('Estamos prontos') --> 'prontos Estamos'"
   ]
  },
  {
   "cell_type": "code",
   "execution_count": 9,
   "metadata": {},
   "outputs": [
    {
     "name": "stdout",
     "output_type": "stream",
     "text": [
      "asac me uotse uE\n",
      "sotnorp somatsE\n"
     ]
    }
   ],
   "source": [
    "def ordem_reversa(s):\n",
    "    return print(s[::-1])\n",
    "\n",
    "ordem_reversa(\"Eu estou em casa\")\n",
    "ordem_reversa(\"Estamos prontos\")"
   ]
  },
  {
   "cell_type": "markdown",
   "metadata": {},
   "source": [
    "4 - Tem 33: Faça uma função que retorne True se, dada uma lista de inteiros, houver em alguma posição da lista um 3 do lado de outro 3. Exemplo: tem_33([1,3,3]) --> True tem_33([1,3,1,3]) --> False tem_33([3,1,3]) --> False"
   ]
  },
  {
   "cell_type": "code",
   "execution_count": 10,
   "metadata": {},
   "outputs": [
    {
     "name": "stdout",
     "output_type": "stream",
     "text": [
      "True\n",
      "False\n"
     ]
    }
   ],
   "source": [
    "def lista_int(l=[]):\n",
    "    r = 0\n",
    "    atual = 1\n",
    "    prox = 0\n",
    "    for lista in l:\n",
    "        if lista == 3:\n",
    "            atual = lista\n",
    "        else:\n",
    "            prox = lista\n",
    "        \n",
    "        if atual == prox:\n",
    "            r += 1\n",
    "    else:\n",
    "        if r >= 1:\n",
    "            print(\"True\")\n",
    "        else:\n",
    "            print(\"False\")\n",
    "            \n",
    "lista_int([1,3,3])\n",
    "lista_int([3,1,3])"
   ]
  },
  {
   "cell_type": "markdown",
   "metadata": {},
   "source": [
    "5 - Blackjack: Faça uma função que receba 3 inteiros entre 1 e 11. Se a soma deles for menor que 21, retorne o valor da soma. Se for mair do que 21 e houver um 11, subtraia 10 da soma antes de apresentar o resultado. Se o valor da soma passar de 21, retorne ‘ESTOUROU’. Exemplo: blackjack(5,6,7) --> 18 blackjack(9,9,9) --> 'ESTOUROU' blackjack(9,9,11) --> 19"
   ]
  },
  {
   "cell_type": "code",
   "execution_count": 11,
   "metadata": {},
   "outputs": [
    {
     "name": "stdout",
     "output_type": "stream",
     "text": [
      "18\n",
      "ESTOUROU\n",
      "19\n"
     ]
    }
   ],
   "source": [
    "def blackjack(num,num2,num3):\n",
    "    soma = num+num2+num3\n",
    "    if soma < 21:\n",
    "        print(soma)\n",
    "    elif soma > 21 and num == 11 or num2 == 11 or num3 == 11:\n",
    "        novo = soma - 11\n",
    "        print(novo)\n",
    "    else:\n",
    "        print('ESTOUROU')\n",
    "        \n",
    "blackjack(5,6,7)\n",
    "blackjack(9,9,9)\n",
    "blackjack(10,9,11)"
   ]
  },
  {
   "cell_type": "markdown",
   "metadata": {},
   "source": [
    "6 - Espião: Escreva uma função que receba uma lista de inteiros e retorne True se contém um 007 em ordem, mesmo que não contínuo. Exemplo: espiao([1,2,4,0,0,7,5]) --> True espiao([1,0,2,4,0,5,7]) --> True espiao([1,7,2,4,0,5,0]) --> False"
   ]
  },
  {
   "cell_type": "code",
   "execution_count": 15,
   "metadata": {},
   "outputs": [
    {
     "name": "stdout",
     "output_type": "stream",
     "text": [
      "True\n",
      "True\n",
      "False\n"
     ]
    }
   ],
   "source": [
    "\n",
    "def espiao(bonde = []):\n",
    "    m = \"\"\n",
    "    for james in bonde:\n",
    "        if james == 0 or james == 7:\n",
    "            m += str(james)\n",
    "    else:\n",
    "        if m == \"007\":\n",
    "            print(\"True\")\n",
    "        else:\n",
    "            print(\"False\")\n",
    "        \n",
    "espiao([1,2,4,0,0,7,5])\n",
    "espiao([1,0,2,4,0,5,7])\n",
    "espiao([1,7,2,4,0,5,0])"
   ]
  },
  {
   "cell_type": "markdown",
   "metadata": {},
   "source": [
    "7 - Linha: Crie a classe Linha que tem dois atributos, coordenada1 e coordenada2. Cada coordenada é uma tupla que carrega duas coordenadas cartesianas (x,y) que denotam pontos do segmento de reta. Faça métodos que calculem o comprimento do segmento de reta e sua inclinação."
   ]
  },
  {
   "cell_type": "code",
   "execution_count": 17,
   "metadata": {},
   "outputs": [
    {
     "name": "stdout",
     "output_type": "stream",
     "text": [
      "5.0\n",
      "1.3333333333333333\n"
     ]
    }
   ],
   "source": [
    "import math\n",
    "class Linha:\n",
    "    \n",
    "    def __init__(self, cor1, cor2):\n",
    "        self.coordenada1 = cor1\n",
    "        self.coordenada2 = cor2\n",
    "        \n",
    "    def calcularComprimento(self):\n",
    "        return math.sqrt((self.coordenada2[0] - self.coordenada1[0])**2 + (self.coordenada2[1] - self.coordenada1[1])**2)\n",
    "    \n",
    "    def calcularInclinacao(self):\n",
    "        return (self.coordenada2[1] - self.coordenada1[1]) / (self.coordenada2[0] - self.coordenada1[0])\n",
    "    \n",
    "linha = Linha((5, 7), (2, 3))\n",
    "print(linha.calcularComprimento())\n",
    "print(linha.calcularInclinacao())"
   ]
  },
  {
   "cell_type": "markdown",
   "metadata": {},
   "source": [
    "8 - Figuras: Crie a seguinte hierarquia de classes de figuras geométricas. Veja na figura as fórmulas: a. A classe abstrata Figura deve ter o método abstrato area. b. A classe concreta Circulo é subclasse de Figura. c. A classe abstrata Poligono é subclasse de Figura e deve ter os atributos base e altura . d. As classes concretas Triangulo, Losango, Retangulo e Quadrado são subclasses de Poligono. Tente criar mais uma generalização aqui olhando as fórmulas da área. e. Os polígonos Retangulo e Quadrado devem implementar a interface Diagonal, que deve ter um método que calcula a diagonal. f. Crie uma classe Geometria com uma lista de Figuras com pelo menos uma figura de cada e imprima suas áreas, perímetros e diagonais."
   ]
  },
  {
   "cell_type": "code",
   "execution_count": 18,
   "metadata": {},
   "outputs": [
    {
     "name": "stdout",
     "output_type": "stream",
     "text": [
      "<class '__main__.Circulo'>\n",
      "Área:  78.53981633974483\n",
      "Perímetro: 31.41592653589793\n",
      "\n",
      "<class '__main__.Triangulo'>\n",
      "Área:  6.0\n",
      "Perímetro: None\n",
      "\n",
      "<class '__main__.Losango'>\n",
      "Área:  38.5\n",
      "Perímetro: 36\n",
      "\n",
      "<class '__main__.Retangulo'>\n",
      "Área:  30\n",
      "Perímetro: 26\n",
      "\n",
      "<class '__main__.Quadrado'>\n",
      "Área:  8\n",
      "Perímetro: 12\n",
      "\n"
     ]
    }
   ],
   "source": [
    "from abc import ABC, abstractmethod\n",
    "import math\n",
    "class Figura(ABC):\n",
    "    \n",
    "    def __init__(self):\n",
    "        super().__init__()\n",
    "    \n",
    "    @abstractmethod\n",
    "    def area(self):\n",
    "        pass\n",
    "    \n",
    "    @abstractmethod\n",
    "    def perimetro(self):\n",
    "        pass\n",
    "    \n",
    "class Circulo(Figura):\n",
    "    \n",
    "    def __init__(self, raio):\n",
    "        self.raio = raio\n",
    "        Figura.__init__(self)\n",
    "        \n",
    "    def area(self):\n",
    "        return math.pi * (self.raio**2)\n",
    "    \n",
    "    def perimetro(self):\n",
    "        return 2 * math.pi * self.raio\n",
    "        \n",
    "class Poligono(Figura, ABC):\n",
    "    \n",
    "    def __init__(self, base, altura):\n",
    "        self.base = base\n",
    "        self.altura = altura\n",
    "        Figura.__init__(self)\n",
    "        \n",
    "class Diagonal(ABC):\n",
    "    \n",
    "    def __init__(self):\n",
    "        super().__init__()\n",
    "        \n",
    "    def diagonal(self):\n",
    "        return math.sqrt((self.base**2) + (self.altura**2))\n",
    "        \n",
    "class Triangulo(Poligono):\n",
    "    \n",
    "    def __init__(self, base, altura):\n",
    "        super().__init__(base, altura)\n",
    "        \n",
    "    def area(self):\n",
    "        return (self.base * self.altura) / 2\n",
    "    \n",
    "    def perimetro(self):\n",
    "        #precisa dos lados\n",
    "        pass\n",
    "        \n",
    "class Losango(Poligono, Diagonal):\n",
    "    \n",
    "    def __init__(self, base, altura):\n",
    "        Poligono.__init__(self, base, altura)\n",
    "        Diagonal.__init__(self)\n",
    "        \n",
    "    def area(self):\n",
    "        return (self.base * self.altura) / 2\n",
    "    \n",
    "    def perimetro(self):\n",
    "        return self.base*2 + self.altura*2\n",
    "        \n",
    "class Retangulo(Poligono, Diagonal):\n",
    "    \n",
    "    def __init__(self, base, altura):\n",
    "        Poligono.__init__(self, base, altura)\n",
    "        Diagonal.__init__(self)\n",
    "        \n",
    "    def area(self):\n",
    "        return self.base * self.altura\n",
    "                         \n",
    "    def diagonal(self):\n",
    "        return math.sqrt((self.base**2) + (self.altura**2))\n",
    "    \n",
    "    def perimetro(self):\n",
    "        return self.base*2 + self.altura*2\n",
    "        \n",
    "class Quadrado(Poligono):\n",
    "    \n",
    "    def __init__(self, base, altura):\n",
    "        super().__init__(base, altura)\n",
    "        \n",
    "    def area(self):\n",
    "        return self.base * self.altura\n",
    "    \n",
    "    def perimetro(self):\n",
    "        return self.base*2 + self.altura*2\n",
    "    \n",
    "class Geometria:\n",
    "    \n",
    "    def __init__(self):\n",
    "        self.figuras = [\n",
    "            Circulo(5),\n",
    "            Triangulo(1, 12),\n",
    "            Losango(7, 11),\n",
    "            Retangulo(10,3),\n",
    "            Quadrado(4, 2)\n",
    "        ]\n",
    "        \n",
    "geometria = Geometria()\n",
    "for figura in geometria.figuras:\n",
    "    print(type(figura))\n",
    "    print(\"Área: \", figura.area())\n",
    "    print(\"Perímetro: \" + str(figura.perimetro()) + \"\\n\")"
   ]
  },
  {
   "cell_type": "markdown",
   "metadata": {},
   "source": [
    "9 - Jogo de Blacjack: Faça um joguinho simples em Python. Aqui estão os requisitos:\n",
    "\n",
    "Você precisa criar um jogo de BlackJack (21) baseado em texto simples\n",
    "O jogo precisa ter um jogador contra um croupier automatizado.\n",
    "O jogador pode desistir ou bater.\n",
    "O jogador deve ser capaz de escolher o seu valor de aposta.\n",
    "Você precisa acompanhar o dinheiro total do jogador.\n",
    "Você precisa alertar o jogador de vitórias, derrotas ou estouros, etc ... E o mais importante: Você deve usar OOP e classes em alguma parte do seu jogo. Você não pode simplesmente usar funções no seu jogo. Use classes para ajudá-lo a definir o deck e a mão do jogador. Há muitas maneiras certas de fazer isso, então explore bem!"
   ]
  },
  {
   "cell_type": "code",
   "execution_count": null,
   "metadata": {},
   "outputs": [],
   "source": [
    "#Funcao\n",
    "def mostrarcarta(carta):\n",
    "    if carta == 13:\n",
    "        print (\"----------------------------------\")\n",
    "        print (\"Voce tem em maos a carta K(13) !\")\n",
    "        print (\"Seu Total é\",totaljogador,\".\")\n",
    "        print (\"-----------------------------------------------\")\n",
    "    elif carta == 12:\n",
    "        print (\"----------------------------------\")\n",
    "        print (\"Voce tem em maos a carta Q(12) !\")\n",
    "        print (\"Seu total é\",totaljogador,\".\")\n",
    "        print (\"----------------------------------\")\n",
    "    elif carta == 11:\n",
    "        print (\"-----------------------------------------------\")\n",
    "        print (\"Voce tem em maos a carta J(11) !\")\n",
    "        print (\"Seu total é\",totaljogador,\".\")\"Seu total é\",totaljogador,\".\"\n",
    "        print (\"-----------------------------------------------\")\"-----------------------------------------------\"\n",
    "    elif carta == 1:\n",
    "        print (\"-----------------------------------------------\")\n",
    "        print (\"Voce tem em maos a carta A(1) !\")\"Voce tem em maos a carta A(1) !\"\n",
    "        print (\"Seu total é\",totaljogador,\".\")\"Seu total é\",totaljogador,\".\"\n",
    "        print (\"-----------------------------------------------\")\n",
    "    else:\n",
    "        print (\"-----------------------------------------------\")\n",
    "        print (\"Voce tem em maos a carta\",cartajogador,\"!\")\n",
    "        print (\"Seu total é\",totaljogador,\".\")\n",
    "        print (\"-----------------------------------------------\")\n",
    "\n",
    "#-------------------------------------------------------------\n",
    "def decidir(escolha):\n",
    "    print (\"******************************\")\n",
    "    print (\"* O que voce deseja fazer?   *\")\n",
    "    print (\"* 1 - Pedir mais uma carta?  *\")\n",
    "    print (\"* 2 - não pedir mais cartas? *\")\n",
    "    print (\"* 3 - Sair?                  *\")\n",
    "    print (\"******************************\")\n",
    "    escolha = input(\" > \")\n",
    "    return escolha\n",
    "#-------------------------------------------------------------\n",
    "\n",
    "    \n",
    "#Programa\n",
    "mostrarcarta(cartajogador)\n",
    "print (\"-----------------------------------------------\")\n",
    "print (\"O total da mesa é \",totalmesa,\".\")\n",
    "print (\"-----------------------------------------------\")\n",
    "decisao = decidir(decisao)\n",
    "while jogar == 1:\n",
    "    while decisao == 1 or decisao == 2:\n",
    "            if decisao == 1:\n",
    "                cartajogador = random.randrange(1,14)\n",
    "                totaljogador = totaljogador + cartajogador\n",
    "                cartamesa = random.randrange(1,14)\n",
    "                totalmesa = totalmesa + cartamesa\n",
    "                mostrarcarta(cartajogador)\n",
    "            elif decisao == 2:\n",
    "                decisaomesa = random.randrange(2)\n",
    "                if decisaomesa == 1:\n",
    "                    cartamesa = random.randrange(1,14)\n",
    "                    totalmesa = totalmesa + cartamesa\n",
    "                else:\n",
    "                    print()\n",
    "                    print()\n",
    "                    print (\"A mesa decidiu não escolher nenhuma carta tambem!!!\")\n",
    "                    print()\n",
    "               \n",
    "            if totaljogador > 21 and totalmesa > 21:\n",
    "                print (\"-----------------------------------------------\")\n",
    "                print (\"Voce e a mesa expludiram! Voce perdeu 1 pontos!\")\n",
    "                print (\"Total Jogador =\",totaljogador)\n",
    "                print (\"Total Mesa =\",totalmesa)\n",
    "                cartajogador = random.randrange(1,14)\n",
    "                cartamesa = random.randrange(1,14)\n",
    "                totaljogador = cartajogador\n",
    "                totalmesa = cartamesa\n",
    "                pontos = pontos - 1\n",
    "                print\n",
    "                print (\"-----------------------------------------------\")\n",
    "                mostrarcarta(cartajogador)\n",
    "                print (\"-----------------------------------------------\")\n",
    "                print (\"Seu total de pontos é\",pontos,\"!\")\n",
    "                print (\"-----------------------------------------------\")\n",
    "                print\n",
    "            elif totaljogador > 21 and totalmesa <= 21:\n",
    "                print (\"-----------------------------------------------\")\n",
    "                print (\"Voce Explodiu!!! Voce perdeu 2 pontos!\")\n",
    "                print (\"Total Jogador =\",totaljogador)\n",
    "                print (\"Total Mesa =\",totalmesa)\n",
    "                cartajogador = random.randrange(1,14)\n",
    "                cartamesa = random.randrange(1,14)\n",
    "                totaljogador = cartajogador\n",
    "                totalmesa = cartamesa\n",
    "                pontos = pontos - 2\n",
    "                print()\n",
    "                print (\"-----------------------------------------------\")\n",
    "                mostrarcarta(cartajogador)\n",
    "                print (\"-----------------------------------------------\")\n",
    "                print (\"Seu total de pontos é\",pontos,\"!\")\n",
    "                print (\"-----------------------------------------------\")\n",
    "                print()\n",
    "            elif totaljogador <= 21 and totalmesa > 21:\n",
    "                print (\"-----------------------------------------------\")\n",
    "                print (\"Voce venceu a mesa!!! Voce ganhou 3 pontos!\")\n",
    "                print (\"Total Jogador =\",totaljogador)\n",
    "                print (\"Total Mesa =\",totalmesa)\n",
    "                cartajogador = random.randrange(1,14)\n",
    "                cartamesa = random.randrange(1,14)\n",
    "                totaljogador = cartajogador\n",
    "                totalmesa = cartamesa\n",
    "                pontos = pontos + 3\n",
    "                print()\n",
    "                print (\"-----------------------------------------------\")\n",
    "                mostrarcarta(cartajogador)\n",
    "                print (\"-----------------------------------------------\")\n",
    "                print (\"Seu total de pontos é\",pontos,\"!\")\n",
    "                print (\"-----------------------------------------------\")\n",
    "                print\n",
    "            elif totaljogador == 21 and totalmesa == 21:\n",
    "                print (\"-----------------------------------------------\")\n",
    "                print (\"Voce empatou com a mesa!!! Voce ganhou 1 ponto!\"\n",
    "                print (\"Total Jogador =\",totaljogador)\n",
    "                print (\"Total Mesa =\",totalmesa)\n",
    "                cartajogador = random.randrange(1,14)\n",
    "                cartamesa = random.randrange(1,14)\n",
    "                totaljogador = cartajogador\n",
    "                totalmesa = cartamesa\n",
    "                pontos = pontos + 1\n",
    "                print()\n",
    "                print (\"-----------------------------------------------\")\n",
    "\n",
    "                mostrarcarta(cartajogador)\n",
    "                print (\"-----------------------------------------------\")\n",
    "                print (\"Seu total de pontos é\",pontos,\"!\")\n",
    "                print (\"-----------------------------------------------\")\n",
    "                print()\n",
    "            elif totaljogador < 21 and totalmesa < 21 and decisao == 2:\n",
    "                if totalmesa > totaljogador:\n",
    "                    print (\"-----------------------------------------------\")\n",
    "                    print (\"Voce perdeu da Mesa!!! Voce perdeu 2 pontos!\")\n",
    "                    pontos = pontos - 2\n",
    "                else:\n",
    "                    print (\"-----------------------------------------------\")\n",
    "                    print (\"Voce ganhou da Mesa!!! Voce ganhou 3 pontos!\")\n",
    "                    pontos = pontos + 3\n",
    "                    \n",
    "                print (\"Total Jogador =\",totaljogador)\n",
    "                print (\"Total Mesa =\",totalmesa)\n",
    "                cartajogador = random.randrange(1,14)\n",
    "                cartamesa = random.randrange(1,14)\n",
    "                totaljogador = cartajogador\n",
    "                totalmesa = cartamesa\n",
    "                print()\n",
    "                mostrarcarta(cartajogador)\n",
    "                print (\"----------------------------------\")\n",
    "                print (\"Seu total de pontos é\",pontos,\"!\")\n",
    "                print (\"-----------------------------------------------\")\n",
    "                print()\n",
    "            \n",
    "            decisao = decidir(decisao)\n",
    "\n",
    "\n",
    "    if decisao > 2:            \n",
    "        jogar = 0"
   ]
  },
  {
   "cell_type": "code",
   "execution_count": null,
   "metadata": {},
   "outputs": [],
   "source": []
  }
 ],
 "metadata": {
  "kernelspec": {
   "display_name": "Python 3",
   "language": "python",
   "name": "python3"
  },
  "language_info": {
   "codemirror_mode": {
    "name": "ipython",
    "version": 3
   },
   "file_extension": ".py",
   "mimetype": "text/x-python",
   "name": "python",
   "nbconvert_exporter": "python",
   "pygments_lexer": "ipython3",
   "version": "3.6.7"
  }
 },
 "nbformat": 4,
 "nbformat_minor": 2
}
