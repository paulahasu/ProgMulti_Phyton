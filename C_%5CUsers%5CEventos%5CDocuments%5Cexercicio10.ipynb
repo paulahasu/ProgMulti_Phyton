{
 "cells": [
  {
   "cell_type": "code",
   "execution_count": 2,
   "metadata": {},
   "outputs": [
    {
     "name": "stdout",
     "output_type": "stream",
     "text": [
      "Digite o primeiro número: 4\n",
      "Digite o segundo número:  6\n",
      "O maior número é : 6\n"
     ]
    }
   ],
   "source": [
    "num1  = int(input(\"Digite o primeiro número: \"))\n",
    "num2 = int(input(\"Digite o segundo número:  \"))\n",
    "if num1 > num2:\n",
    "    print(\"O maior número é : {}\".format(num1))\n",
    "else:\n",
    "    print(\"O maior número é : {}\".format(num2))"
   ]
  },
  {
   "cell_type": "markdown",
   "metadata": {},
   "source": [
    "2 - Faça um Programa que verifique se uma letra digitada é vogal ou consoante\n"
   ]
  },
  {
   "cell_type": "code",
   "execution_count": 3,
   "metadata": {},
   "outputs": [
    {
     "name": "stdout",
     "output_type": "stream",
     "text": [
      "Digite uma letra: g\n",
      "É consoante!\n"
     ]
    }
   ],
   "source": [
    "letra = input(\"Digite uma letra: \")\n",
    "if letra in ['a','e','i','o','u']:\n",
    "    print('É vogal!')\n",
    "else:\n",
    "    print('É consoante!')"
   ]
  },
  {
   "cell_type": "markdown",
   "metadata": {},
   "source": [
    "3 - Faça um programa para a leitura de duas notas parciais de um aluno. O programa deve calcular a média alcançada por aluno e apresentar:\n",
    "\n",
    "1 - A mensagem \"Aprovado\", se a média alcançada for maior ou igual a sete;\n",
    "2 - A mensagem \"Reprovado\", se a média for menor do que sete;\n",
    "3 - A mensagem \"Aprovado com Distinção\", se a média for igual a dez."
   ]
  },
  {
   "cell_type": "code",
   "execution_count": 4,
   "metadata": {},
   "outputs": [
    {
     "name": "stdout",
     "output_type": "stream",
     "text": [
      "Digite sua nota: 8\n",
      "Digite sua 2° nota: 3\n",
      "Você foi reprovado!\n"
     ]
    }
   ],
   "source": [
    "num1 = int(input('Digite sua nota: '))\n",
    "num2 = int(input('Digite sua 2° nota: '))\n",
    "\n",
    "nota = (num1 + num2) / 2\n",
    "\n",
    "if nota >= 7 and nota < 10:     \n",
    "    print ('Você foi Aprovado!!')\n",
    "elif nota >= 10:\n",
    "    print ('Você foi aprovado com Distinção!')    \n",
    "else:\n",
    "    print ('Você foi reprovado!')"
   ]
  },
  {
   "cell_type": "markdown",
   "metadata": {},
   "source": [
    "4 - Faça um Programa que leia três números e mostre-os em ordem decrescente"
   ]
  },
  {
   "cell_type": "code",
   "execution_count": 5,
   "metadata": {},
   "outputs": [
    {
     "name": "stdout",
     "output_type": "stream",
     "text": [
      "Digite o primeiro número: 6\n",
      "Digite o segundo número: 9\n",
      "Digite o terceiro número: 24\n",
      "24 9 6\n"
     ]
    }
   ],
   "source": [
    "num1 = int(input(\"Digite o primeiro número: \"))\n",
    "num2 = int(input(\"Digite o segundo número: \"))\n",
    "num3 = int(input(\"Digite o terceiro número: \"))\n",
    "\n",
    "if num1 < num2 and num1 < num3 and num3 < num2:\n",
    "    print(num2,num3,num1)\n",
    "elif num2 < num1 and num2 < num3 and num1 < num3: \n",
    "    print(num3,num1,num2)\n",
    "elif num3 < num1 and num3 < num2 and num1 < num2:     \n",
    "    print(num2,num1,num3)\n",
    "elif num1<num2 and num2<num3 and num1<num3:\n",
    "    print(num3,num2,num1)\n",
    "elif num2<num3 and num3<num1 and num3<num1:\n",
    "    print(num1,num3,num2)\n",
    "else:\n",
    "    print(num1,num2,num3)"
   ]
  },
  {
   "cell_type": "markdown",
   "metadata": {},
   "source": [
    "10 - Faça um Programa para um caixa eletrônico. O programa deverá perguntar ao usuário a valor do saque e depois informar quantas notas de cada valor serão fornecidas. As notas disponíveis serão as de 1, 5, 10, 50 e 100 reais. O valor mínimo é de 10 reais e o máximo de 600 reais. O programa não deve se preocupar com a quantidade de notas existentes na máquina"
   ]
  },
  {
   "cell_type": "code",
   "execution_count": 7,
   "metadata": {},
   "outputs": [
    {
     "name": "stdout",
     "output_type": "stream",
     "text": [
      "Digite o valor do saque: 10\n",
      "1 notas de R$ 10\n"
     ]
    }
   ],
   "source": [
    "saque = int(input(\"Digite o valor do saque: \"))\n",
    "\n",
    "if 10 <= saque <= 600:\n",
    "    notascem = saque // 100\n",
    "    saque = saque % 100\n",
    "\n",
    "    notascinquenta = saque // 50\n",
    "    saque = saque % 50\n",
    "\n",
    "    notasdez = saque // 10\n",
    "    saque = saque % 10\n",
    "\n",
    "    notascinco = saque // 5\n",
    "    saque = saque % 5\n",
    "\n",
    "    notasum = saque // 1\n",
    "\n",
    "    if notascem > 0:\n",
    "        print(notascem, \"notas de R$ 100\")\n",
    "    if notascinquenta > 0:\n",
    "        print(notascinquenta, \"notas de R$ 50\")\n",
    "    if notasdez > 0:\n",
    "        print(notasdez, \"notas de R$ 10\")\n",
    "    if notascinco > 0:\n",
    "        print(notascinco, \"notas de R$ 5\")\n",
    "    if notasum > 0:\n",
    "        print(notasum, \"notas de R$ 1\")\n",
    "              \n",
    "else:\n",
    "    print(\"Nao é possivel fazer o saque\")"
   ]
  },
  {
   "cell_type": "markdown",
   "metadata": {},
   "source": [
    "11 - Faça um programa que faça 5 perguntas para uma pessoa sobre um crime. As perguntas são: \"Telefonou para a vítima?\" \"Esteve no local do crime?\" \"Mora perto da vítima?\" \"Devia para a vítima?\" \"Já trabalhou com a vítima?\" O programa deve no final emitir uma classificação sobre a participação da pessoa no crime. Se a pessoa responder positivamente a 2 questões ela deve ser classificada como \"Suspeita\", entre 3 e 4 como \"Cúmplice\" e 5 como \"Assassino\". Caso contrário, ele será classificado como \"Inocente\""
   ]
  },
  {
   "cell_type": "code",
   "execution_count": 8,
   "metadata": {},
   "outputs": [
    {
     "name": "stdout",
     "output_type": "stream",
     "text": [
      "Lembre-se 1 para sim e 0 para não\n",
      "Telefonou para a vítima? 1\n",
      "Esteve no local do crime? 0\n",
      "Mora perto da vítima? 0\n",
      "Devia para a vítima? 0\n",
      "Já trabalhou com a vítima? 1\n",
      "Suspeita\n"
     ]
    }
   ],
   "source": [
    "print(\"Lembre-se 1 para sim e 0 para não\")\n",
    "\n",
    "perg  = int(input(\"Telefonou para a vítima? \"))\n",
    "perg2 = int(input(\"Esteve no local do crime? \"))\n",
    "perg3 = int(input(\"Mora perto da vítima? \"))\n",
    "perg4 = int(input(\"Devia para a vítima? \"))\n",
    "perg5 = int(input(\"Já trabalhou com a vítima? \"))\n",
    "\n",
    "res = perg + perg2 + perg3+ perg4 + perg5\n",
    "\n",
    "if res == 2:\n",
    "    print(\"Suspeita\")\n",
    "elif res == 3 or res == 4:\n",
    "    print(\"Cúmplice\")\n",
    "elif res == 5:\n",
    "    print(\"Assassino\")\n",
    "else:\n",
    "    print(\"Inocente\")"
   ]
  },
  {
   "cell_type": "raw",
   "metadata": {},
   "source": [
    "12 - Uma fruteira está vendendo frutas com a seguinte tabela de preços: Até 5 Kg Acima de 5 Kg Morango R$ 2,50 por Kg R$ 2,20 por Kg Maçã R$ 1,80 por Kg R$ 1,50 por Kg Se o cliente comprar mais de 8 Kg em frutas ou o valor total da compra ultrapassar R$ 25,00, receberá ainda um desconto de 10% sobre este total. Escreva um algoritmo para ler a quantidade (em Kg) de morangos e a quantidade (em Kg) de maças adquiridas e escreva o valor a ser pago pelo cliente"
   ]
  },
  {
   "cell_type": "code",
   "execution_count": 9,
   "metadata": {},
   "outputs": [
    {
     "name": "stdout",
     "output_type": "stream",
     "text": [
      "Digite a quantidade (em Kg) de morangos 4\n",
      "Digite a quantidade (em Kg) de maças 2\n",
      "Valor a ser pago 13.0 R$\n"
     ]
    }
   ],
   "source": [
    "mor = float(input(\"Digite a quantidade (em Kg) de morangos \"))\n",
    "mac   = float(input(\"Digite a quantidade (em Kg) de maças \"))\n",
    "\n",
    "if mor < 5 and mac < 5:\n",
    "    quant = mor + mac\n",
    "    p_mor = mor * 2.50\n",
    "    p_mac = mac * 1.50\n",
    "    valor = p_mor + p_mac\n",
    "    if quant > 8 or valor > 25:\n",
    "        des = valor * 10/100\n",
    "        novo = valor - des\n",
    "        print(\"Valor a ser pago {} R$\".format(novo))\n",
    "    else:\n",
    "        print(\"Valor a ser pago {} R$\".format(valor))\n",
    "else:\n",
    "    print(\"Quantidade acima do permitido :(\")"
   ]
  },
  {
   "cell_type": "markdown",
   "metadata": {},
   "source": [
    "13 - Faça um programa que peça uma nota, entre zero e dez. Mostre uma mensagem caso o valor seja inválido e continue pedindo até que o usuário informe um valor válido"
   ]
  },
  {
   "cell_type": "code",
   "execution_count": 18,
   "metadata": {},
   "outputs": [
    {
     "name": "stdout",
     "output_type": "stream",
     "text": [
      "Digite uma nota entre 0 e 10:  10\n",
      "Digite uma nota entre 0 e 10:  5\n",
      "Digite uma nota entre 0 e 10:  4\n",
      "Digite uma nota entre 0 e 10:  14\n",
      "Acabou ;)\n"
     ]
    }
   ],
   "source": [
    "num = 0\n",
    "while num>= 0 and num <= 10:\n",
    "    num = int(input(\"Digite uma nota entre 0 e 10:  \"))\n",
    "\n",
    "else:\n",
    "    print(\"Acabou ;)\")"
   ]
  },
  {
   "cell_type": "markdown",
   "metadata": {},
   "source": [
    "14 - Faça um programa que leia e valide as seguintes informações: Nome: maior que 3 caracteres; Idade: entre 0 e 150; Salário: maior que zero; Sexo: 'f' ou 'm'; Estado Civil: 's', 'c', 'v', 'd';"
   ]
  },
  {
   "cell_type": "code",
   "execution_count": 21,
   "metadata": {},
   "outputs": [
    {
     "name": "stdout",
     "output_type": "stream",
     "text": [
      "Digite seu nome ***** digite mais que 3 caracteres **** Paula\n",
      "Digite sua idade **** entre 0 e 150??? **** 21\n",
      "Digite seu sálario **** maior que zero **** 1300\n",
      "Digite seu sexo **** 'f' ou 'm' **** f\n",
      "Digite seu estado civil novamente **** 's', 'c', 'v', 'd' **** s\n",
      "Nome: Paula\n",
      "Sálario: 1300.0 R$\n",
      "Sexo Feminino\n",
      "Estado civil: s\n",
      "Idade: 21\n"
     ]
    }
   ],
   "source": [
    "nome = input(\"Digite seu nome ***** digite mais que 3 caracteres **** \")\n",
    "i = int(input(\"Digite sua idade **** entre 0 e 150??? **** \"))\n",
    "sal = float(input(\"Digite seu sálario **** maior que zero **** \"))\n",
    "sexo = input(\"Digite seu sexo **** 'f' ou 'm' **** \")\n",
    "est = input(\"Digite seu estado civil novamente **** 's', 'c', 'v', 'd' **** \")\n",
    "\n",
    "if len(nome) > 3:\n",
    "    print(\"Nome: {}\".format(nome))\n",
    "else:\n",
    "    nome = input(\"Digite seu nome novamente \")\n",
    "    print(\"Nome: {}\".format(nome))\n",
    "if sal > 0:\n",
    "    print(\"Sálario: {} R$\".format(sal))\n",
    "else:\n",
    "    sal = input(\"Digite seu sálario novamente \")\n",
    "if sexo == 'f' or 'm':\n",
    "    if sexo == 'f':\n",
    "        print(\"Sexo Feminino\")\n",
    "    else:\n",
    "        print(\"Sexo Masculino\")\n",
    "else:\n",
    "    sexo = input(\"Digite seu sexo novamente\")\n",
    "if est == 's' or 'c' or 'v' or 'd':\n",
    "    print(\"Estado civil: {}\".format(est))\n",
    "else:\n",
    "    est = input(\"Digite seu estado civil novamente\")\n",
    "if i >= 0 and i <=150:\n",
    "    print(\"Idade: {}\".format(i))\n",
    "else:\n",
    "    i = input(\"Digite sua idade *novamente\")"
   ]
  },
  {
   "cell_type": "markdown",
   "metadata": {},
   "source": [
    "15 - Faça um programa que leia 5 números e informe o maior número."
   ]
  },
  {
   "cell_type": "code",
   "execution_count": 22,
   "metadata": {},
   "outputs": [
    {
     "name": "stdout",
     "output_type": "stream",
     "text": [
      "Digite 1 número: 6\n",
      "Digite 2 número: 9\n",
      "Digite 3 número: 3\n",
      "Digite 4 número: 6\n",
      "Digite 5 número: 5\n",
      "9\n"
     ]
    }
   ],
   "source": [
    "num = int(input(\"Digite 1 número: \"))\n",
    "num2 = int(input(\"Digite 2 número: \"))\n",
    "num3 = int(input(\"Digite 3 número: \"))\n",
    "num4 = int(input(\"Digite 4 número: \"))\n",
    "num5 = int(input(\"Digite 5 número: \"))\n",
    "\n",
    "if num > num2 and num > num3 and num > num4 and num > num5:\n",
    "    print(num)\n",
    "elif num2 > num3 and num2 > num4 and num2 > num5 and num2 > num:\n",
    "    print(num2)\n",
    "elif num3 > num2 and num3 > n and num3 > num4 and num3 > num5:\n",
    "    print(num3)\n",
    "elif num4 > num2 and num4 > num and num4 > num3 and num4 > num5:\n",
    "    print(num4)\n",
    "else:\n",
    "    print(num5)"
   ]
  },
  {
   "cell_type": "markdown",
   "metadata": {},
   "source": [
    "16 - Faça um programa que leia 5 números e informe a soma e a média dos números"
   ]
  },
  {
   "cell_type": "code",
   "execution_count": 23,
   "metadata": {},
   "outputs": [
    {
     "name": "stdout",
     "output_type": "stream",
     "text": [
      "Digite 1 número 8\n",
      "Digite 2 número 5\n",
      "Digite 3 número 9\n",
      "Digite 4 número 1\n",
      "Digite 5 número 2\n",
      "Soma: 25      Média:5.0\n"
     ]
    }
   ],
   "source": [
    "num = int(input(\"Digite 1 número \"))\n",
    "num2 = int(input(\"Digite 2 número \"))\n",
    "num3 = int(input(\"Digite 3 número \"))\n",
    "num4 = int(input(\"Digite 4 número \"))\n",
    "num5 = int(input(\"Digite 5 número \"))\n",
    "\n",
    "soma = num + num2 + num3 +num4 +num5\n",
    "media = soma/5\n",
    "\n",
    "print(\"Soma: {}      Média:{}\".format(soma,media))"
   ]
  },
  {
   "cell_type": "markdown",
   "metadata": {},
   "source": [
    "17 Faça um programa que imprima na tela apenas os números ímpares entre 1 e 50"
   ]
  },
  {
   "cell_type": "code",
   "execution_count": 24,
   "metadata": {},
   "outputs": [
    {
     "name": "stdout",
     "output_type": "stream",
     "text": [
      "Impares: 1 3 5 7 9 11 13 15 17 19 21 23 25 27 29 31 33 35 37 39 41 43 45 47 49 \n"
     ]
    }
   ],
   "source": [
    "i = 0\n",
    "impar = \"\"\n",
    "while i <= 49:\n",
    "    i += 1\n",
    "    if i%2 != 0:\n",
    "        impar += str(i) + \" \"\n",
    "        \n",
    "else:\n",
    "    print(\"Impares: {}\".format(impar))"
   ]
  },
  {
   "cell_type": "markdown",
   "metadata": {},
   "source": [
    "18 - Desenvolva um gerador de tabuada, capaz de gerar a tabuada de qualquer número inteiro entre 1 a 10. O usuário deve informar de qual numero ele deseja ver a tabuada. A saída deve ser conforme o exemplo abaixo: Tabuada de 5: 5 X 1 = 5 5 X 2 = 10 ... 5 X 10 = 50"
   ]
  },
  {
   "cell_type": "code",
   "execution_count": 25,
   "metadata": {},
   "outputs": [
    {
     "name": "stdout",
     "output_type": "stream",
     "text": [
      "Digite o número da tabuada 7\n",
      "7 X 1 = 7\n",
      "7 X 2 = 14\n",
      "7 X 3 = 21\n",
      "7 X 4 = 28\n",
      "7 X 5 = 35\n",
      "7 X 6 = 42\n",
      "7 X 7 = 49\n",
      "7 X 8 = 56\n",
      "7 X 9 = 63\n",
      "7 X 10 = 70\n",
      "Acabou\n"
     ]
    }
   ],
   "source": [
    "num = int(input(\"Digite o número da tabuada \"))\n",
    "mult = 0\n",
    "if num >= 1 and num <= 10:\n",
    "    g = 1\n",
    "    while g <= 10:\n",
    "        mult = num * g\n",
    "        print(\"{} X {} = {}\".format(num,g,mult))\n",
    "        g += 1\n",
    "    else:\n",
    "        print(\"Acabou\")\n",
    "else:\n",
    "    print(\"Algo errado\")"
   ]
  },
  {
   "cell_type": "markdown",
   "metadata": {},
   "source": [
    "19 - A série de Fibonacci é formada pela seqüência 1,1,2,3,5,8,13,21,34,55,... Faça um programa capaz de gerar a série até o n−ésimo termo."
   ]
  },
  {
   "cell_type": "code",
   "execution_count": 26,
   "metadata": {},
   "outputs": [
    {
     "name": "stdout",
     "output_type": "stream",
     "text": [
      "0 \n",
      "1 \n",
      "1 \n",
      "2 \n",
      "3 \n",
      "5 \n",
      "8 \n",
      "13 \n",
      "21 \n",
      "34 \n",
      "55 \n",
      "89 \n",
      "Acabou\n"
     ]
    }
   ],
   "source": [
    "k, l = 0, 1\n",
    "num = 99\n",
    "while k < num:\n",
    "    print(k, end=' ')\n",
    "    k, l = l, k+l\n",
    "    print()\n",
    "else:\n",
    "    print(\"Acabou\")"
   ]
  },
  {
   "cell_type": "markdown",
   "metadata": {},
   "source": [
    "20 Faça um programa que calcule o fatorial de um número inteiro fornecido pelo usuário. Ex.: 5!=5.4.3.2.1=120"
   ]
  },
  {
   "cell_type": "code",
   "execution_count": 27,
   "metadata": {},
   "outputs": [
    {
     "name": "stdout",
     "output_type": "stream",
     "text": [
      "Fatorial de: 8\n",
      "8!= .8.7.6.5.4.3.2.1 = 40320\n"
     ]
    }
   ],
   "source": [
    "num = int(input(\"Fatorial de: \") )\n",
    "\n",
    "result=1\n",
    "count=1\n",
    "mostrar = \"\"\n",
    "while count <= num:\n",
    "    result*= count\n",
    "    mostrar += str(count) + \".\"\n",
    "    count += 1\n",
    "\n",
    "print(\"{}!= {} = {}\".format(num,mostrar[::-1],result))"
   ]
  },
  {
   "cell_type": "raw",
   "metadata": {},
   "source": [
    "21 O Sr. Manoel Joaquim possui uma grande loja de artigos de R$ 1,99, com cerca\n",
    "de 10 caixas. Para agilizar o cálculo de quanto cada cliente deve pagar ele\n",
    "desenvolveu um tabela que contém o número de itens que o cliente comprou e ao\n",
    "lado o valor da conta. Desta forma a atendente do caixa precisa apenas contar\n",
    "quantos itens o cliente está levando e olhar na tabela de preços. Você foi contratado\n",
    "para desenvolver o programa que monta esta tabela de preços, que conterá os\n",
    "preços de 1 até 50 produtos, conforme o exemplo abaixo:\n",
    "Lojas Quase Dois - Tabela de preços\n",
    "1 - R$ 1.99 2 - R$ 3.98\n",
    "...\n",
    "50 - R$ 99.50"
   ]
  },
  {
   "cell_type": "code",
   "execution_count": 1,
   "metadata": {},
   "outputs": [
    {
     "name": "stdout",
     "output_type": "stream",
     "text": [
      "Quantos itens o cliente tem? 3\n",
      "Digite o preço do produto 3.1\n",
      "Digite o preço do produto 4.2\n",
      "Digite o preço do produto 7.9\n",
      "Digite o preço do produto 6.5\n",
      "0 - R$ 3.1\n",
      "1 - R$ 4.2\n",
      "2 - R$ 7.9\n",
      "3 - R$ 6.5\n",
      "\n"
     ]
    }
   ],
   "source": [
    "itens = int(input(\"Quantos itens o cliente tem? \"))\n",
    "k = 0\n",
    "mostrar = \"\"\n",
    "if itens <= 50:\n",
    "    while k <= itens:\n",
    "        prod = float(input(\"Digite o preço do produto \"))\n",
    "        mostrar += str(k) + \" - R$ \" + str(prod) + \"\\n\"\n",
    "        k += 1\n",
    "    else:\n",
    "        print(mostrar)\n",
    "else:\n",
    "    print(\"Quantida acima de 50\")"
   ]
  },
  {
   "cell_type": "raw",
   "metadata": {},
   "source": [
    "22 O Sr. Manoel Joaquim acaba de adquirir uma panificadora e pretende implantar a metodologia da tabelinha, que já é um sucesso na sua loja de 1,99. Você foi contratado para desenvolver o programa que monta a tabela de preços de pães, de 1 até 50 pães, a partir do preço do pão informado pelo usuário, conforme o exemplo abaixo: Preço do pão: R$ 0.18\n",
    "Panificadora Pão de Ontem - Tabela de preços\n",
    "1 - R$ 0.18 2 - R$ 0.36\n",
    "...\n",
    "50 - R$ 9.00"
   ]
  },
  {
   "cell_type": "code",
   "execution_count": 3,
   "metadata": {},
   "outputs": [
    {
     "name": "stdout",
     "output_type": "stream",
     "text": [
      "Quantos pães o cliente comprou? 4\n",
      "Digite o preço 3.2\n",
      "Digite o preço 4.9\n",
      "Digite o preço 7.4\n",
      "Digite o preço 3.8\n",
      "Digite o preço 12.7\n",
      "0 - R$ 3.2\n",
      "1 - R$ 4.9\n",
      "2 - R$ 7.4\n",
      "3 - R$ 3.8\n",
      "4 - R$ 12.7\n",
      "\n"
     ]
    }
   ],
   "source": [
    "itens = int(input(\"Quantos pães o cliente comprou? \"))\n",
    "r = 0\n",
    "mostrar = \"\"\n",
    "if itens <= 50:\n",
    "    while r <= itens:\n",
    "        prec = float(input(\"Digite o preço \"))\n",
    "        mostrar += str(r) + \" - R$ \" + str(prec) + \"\\n\"\n",
    "        r += 1\n",
    "    else:\n",
    "        print(mostrar)\n",
    "else:\n",
    "    print(\"Quantida acima de 50\")"
   ]
  },
  {
   "cell_type": "raw",
   "metadata": {},
   "source": [
    "23 O Sr. Manoel Joaquim expandiu seus negócios para além dos negócios de 1,99 e agora possui uma loja de conveniências. Faça um programa que implemente uma caixa registradora rudimentar. O programa deverá receber um número desconhecido de valores referentes aos preços das mercadorias. Um valor zero deve ser informado pelo operador para indicar o final da compra. O programa deve então mostrar o total da compra e perguntar o valor em dinheiro que o cliente forneceu, para então calcular e mostrar o valor do troco. Após esta operação, o programa deverá voltar ao ponto inicial, para registrar a próxima compra. A saída deve ser conforme o exemplo abaixo: Lojas Tabajara Produto 1: R$ 2.20\n",
    "Produto 2: R$ 5.80 Produto 3: R$ 0\n",
    "Total: R$ 9.00 Dinheiro: R$ 20.00\n",
    "Troco: R$ 11.00 ..."
   ]
  },
  {
   "cell_type": "code",
   "execution_count": 4,
   "metadata": {},
   "outputs": [
    {
     "name": "stdout",
     "output_type": "stream",
     "text": [
      "Bem-vindo a Loja Tabajara - **lembre-se: para sair digite 0 **\n",
      "Digite o preço do produto 20\n",
      "Digite o preço do produto 5\n",
      "Digite o preço do produto 7\n",
      "Digite o preço do produto 9\n",
      "Digite o preço do produto 6\n",
      "Digite o preço do produto 3\n",
      "Digite o preço do produto 2\n",
      "Digite o preço do produto 0\n",
      "Digite o dinheiro fornecido 10\n",
      "Produto: 1: R$ 20.0\n",
      "Produto: 2: R$ 5.0\n",
      "Produto: 3: R$ 7.0\n",
      "Produto: 4: R$ 9.0\n",
      "Produto: 5: R$ 6.0\n",
      "Produto: 6: R$ 3.0\n",
      "Produto: 7: R$ 2.0\n",
      "Produto: 8: R$ 0.0\n",
      "\n",
      " Dinheiro: 10.0 R$\n",
      "Troco: -42.0 R$\n"
     ]
    }
   ],
   "source": [
    "print(\"Bem-vindo a Loja Tabajara - **lembre-se: para sair digite 0 **\")\n",
    "r = 1\n",
    "a = 1\n",
    "mostrar = \"\"\n",
    "total = 0\n",
    "while r != 0:\n",
    "    r = float(input(\"Digite o preço do produto \"))\n",
    "    mostrar += \"Produto: \" + str(a) + \": R$ \" + str(r) + \"\\n\"\n",
    "    total = total + r\n",
    "    a += 1\n",
    "else:\n",
    "    din = float(input(\"Digite o dinheiro fornecido \"))\n",
    "    troco = din - total\n",
    "    print(\"{}\\n Dinheiro: {} R$\\nTroco: {} R$\".format(mostrar,din,troco))"
   ]
  },
  {
   "cell_type": "markdown",
   "metadata": {},
   "source": [
    "24 Foi feita uma estatística em cinco cidades brasileiras para coletar dados sobre acidentes de trânsito. Foram obtidos os seguintes dados:\n",
    "\n",
    "Código da cidade;\n",
    "Número de veículos de passeio (em 1999);\n",
    "Número de acidentes de trânsito com vítimas (em 1999). Deseja-se saber:\n",
    "Qual o maior e menor índice de acidentes de transito e a que cidade pertence;\n",
    "Qual a média de veículos nas cinco cidades juntas;\n",
    "Qual a média de acidentes de trânsito nas cidades com menos de 2.000 veículos de passeio."
   ]
  },
  {
   "cell_type": "code",
   "execution_count": 4,
   "metadata": {},
   "outputs": [
    {
     "name": "stdout",
     "output_type": "stream",
     "text": [
      "Digite o código da cidade 3\n",
      "Digite o Número de veículos de passeio 134\n",
      "Digite o Número de acidentes de trânsito com vítimas 456\n",
      "\n",
      "\n",
      "Digite o código da cidade 34\n",
      "Digite o Número de veículos de passeio 46\n",
      "Digite o Número de acidentes de trânsito com vítimas 663\n",
      "\n",
      "\n",
      "Digite o código da cidade 4\n",
      "Digite o Número de veículos de passeio 6543\n",
      "Digite o Número de acidentes de trânsito com vítimas 75\n",
      "\n",
      "\n",
      "Digite o código da cidade 456\n",
      "Digite o Número de veículos de passeio 6\n",
      "Digite o Número de acidentes de trânsito com vítimas 56453\n",
      "\n",
      "\n",
      "Digite o código da cidade 756\n",
      "Digite o Número de veículos de passeio 666\n",
      "Digite o Número de acidentes de trânsito com vítimas 75\n",
      "\n",
      "\n",
      "Código: 456° Maior: 56453\n",
      "Código: 4° Menor: 75\n",
      "Media entre as cidades: 1308.6\n",
      "Media acidentes acima de 2.000: 213.0\n"
     ]
    }
   ],
   "source": [
    "i = 0\n",
    "acide_Maior = 0\n",
    "acide_Menor = 2000\n",
    "total = 0\n",
    "total_Menor= 0\n",
    "div = 0\n",
    "while i < 5:\n",
    "    cod = int(input(\"Digite o código da cidade \"))\n",
    "    num_v = int(input(\"Digite o Número de veículos de passeio \"))\n",
    "    num_a = int(input(\"Digite o Número de acidentes de trânsito com vítimas \"))\n",
    "    print(\"\\n\")\n",
    "    \n",
    "    if num_a > acide_Maior:\n",
    "        acide_Maior = num_a\n",
    "        m = cod\n",
    "    if num_a < acide_Menor:\n",
    "        acide_Menor = num_a\n",
    "        m2= cod\n",
    "    \n",
    "    if num_v < 2000:\n",
    "        total_Menor += num_v\n",
    "        div += 1\n",
    "    else:\n",
    "        total += num_v\n",
    "    \n",
    "    i += 1\n",
    "else:\n",
    "    media_Menor = total_Menor / div\n",
    "    media = total / 5\n",
    "    print(\"Código: {}° Maior: {}\\nCódigo: {}° Menor: {}\\nMedia entre as cidades: {}\\nMedia acidentes acima de 2.000: {}\".format(\n",
    "        m,acide_Maior,m2,acide_Menor,media,media_Menor))"
   ]
  },
  {
   "cell_type": "markdown",
   "metadata": {},
   "source": [
    "25 - Faça um programa que receba o valor de uma dívida e mostre uma tabela com os seguintes dados: valor da dívida, valor dos juros, quantidade de parcelas e valor da parcela. Os juros e a quantidade de parcelas seguem a tabela abaixo:"
   ]
  },
  {
   "cell_type": "code",
   "execution_count": 5,
   "metadata": {},
   "outputs": [
    {
     "name": "stdout",
     "output_type": "stream",
     "text": [
      "Digite o valor da dívida 588\n",
      "Digite a quantidade de parcelas 4\n",
      "Valor da Dívida: R$ 588.0 Valor dos Juros: R$ 25 Quantidade de Parcelas 4.0 Valor da Parcela R$ 147.0\n"
     ]
    }
   ],
   "source": [
    "vald = float(input(\"Digite o valor da dívida \"))\n",
    "quantp = float(input(\"Digite a quantidade de parcelas \"))\n",
    "\n",
    "if quantp == 1:\n",
    "    vj = 0\n",
    "    valp = vd\n",
    "elif quantp == 3:\n",
    "    valj = 10\n",
    "    valp = vald * vj/100\n",
    "elif quantp == 6:\n",
    "    vj = 15\n",
    "    valp = vald * vj/100\n",
    "elif quantp == 9:\n",
    "    vj = 20\n",
    "    valp = vald * vj/100\n",
    "else:\n",
    "    vj = 25\n",
    "    valp = vald * vj/100\n",
    "\n",
    "print(\"Valor da Dívida: R$ {} Valor dos Juros: R$ {} Quantidade de Parcelas {} Valor da Parcela R$ {}\".\n",
    "     format(vald,vj,quantp,valp))"
   ]
  },
  {
   "cell_type": "markdown",
   "metadata": {},
   "source": [
    "26 - Faça um programa que mostre os n termos da Série a seguir: S = 1/1 + 2/3 + 3/5 + 4/7 + 5/9 + ... + n/m. Imprima no final a soma da série."
   ]
  },
  {
   "cell_type": "code",
   "execution_count": 7,
   "metadata": {},
   "outputs": [
    {
     "name": "stdout",
     "output_type": "stream",
     "text": [
      "entre com o valor de num: 5\n",
      "8.7\n"
     ]
    }
   ],
   "source": [
    "num = int(input(\"entre com o valor de num: \"))\n",
    "s = 1/num + (2/(num-1)) + (3/(num-2)) + ((num-1)/2) + num\n",
    "print(s)"
   ]
  },
  {
   "cell_type": "code",
   "execution_count": null,
   "metadata": {},
   "outputs": [],
   "source": []
  }
 ],
 "metadata": {
  "kernelspec": {
   "display_name": "Python 3",
   "language": "python",
   "name": "python3"
  },
  "language_info": {
   "codemirror_mode": {
    "name": "ipython",
    "version": 3
   },
   "file_extension": ".py",
   "mimetype": "text/x-python",
   "name": "python",
   "nbconvert_exporter": "python",
   "pygments_lexer": "ipython3",
   "version": "3.6.7"
  }
 },
 "nbformat": 4,
 "nbformat_minor": 2
}
