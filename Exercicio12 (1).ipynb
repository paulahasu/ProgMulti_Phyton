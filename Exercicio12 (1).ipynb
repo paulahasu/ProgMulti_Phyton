{
 "cells": [
  {
   "cell_type": "markdown",
   "metadata": {},
   "source": [
    "Paula Akemi Hasu RA:817126817"
   ]
  },
  {
   "cell_type": "markdown",
   "metadata": {},
   "source": [
    "1 - Defina a função soma_nat que recebe como argumento um número natural n e devolve a soma de todos os números naturais até n.\n"
   ]
  },
  {
   "cell_type": "code",
   "execution_count": 1,
   "metadata": {},
   "outputs": [
    {
     "name": "stdout",
     "output_type": "stream",
     "text": [
      "36\n"
     ]
    }
   ],
   "source": [
    "def r_soma_nat(num):\n",
    "        if num == 1:\n",
    "            return 1\n",
    "        else:\n",
    "            return num + r_soma_nat(num-1)\n",
    "print(r_soma_nat(8))"
   ]
  },
  {
   "cell_type": "markdown",
   "metadata": {},
   "source": [
    "2 - Defina a função div que recebe como argumentos dois números naturais m e n e devolve o resultado da divisão inteira de m por n. Neste exercício você não pode recorrer às operações aritméticas de multiplicação, divisão e resto da divisão inteira."
   ]
  },
  {
   "cell_type": "code",
   "execution_count": 2,
   "metadata": {},
   "outputs": [
    {
     "name": "stdout",
     "output_type": "stream",
     "text": [
      "0\n"
     ]
    }
   ],
   "source": [
    "def r_div(m,n):\n",
    "        if m < n:\n",
    "            return 0\n",
    "        else:\n",
    "            return 1 + r_div(m-n,n)\n",
    "print(r_div(3,6))"
   ]
  },
  {
   "cell_type": "markdown",
   "metadata": {},
   "source": [
    "3 - Defina a função prim_alg que recebe como argumento um número natural e devolve o primeiro algarismo (o mais significativo) na representação decimal de n."
   ]
  },
  {
   "cell_type": "code",
   "execution_count": 3,
   "metadata": {},
   "outputs": [
    {
     "name": "stdout",
     "output_type": "stream",
     "text": [
      "2\n",
      "7\n"
     ]
    }
   ],
   "source": [
    "def prim_alg(n):\n",
    "    return print(n[0])\n",
    "prim_alg(\"2345\")\n",
    "prim_alg(\"7\")\n"
   ]
  },
  {
   "cell_type": "markdown",
   "metadata": {},
   "source": [
    "4 - Defina a função prod_lista que recebe como argumento uma lista de inteiros e devolve o produto dos seus elementos."
   ]
  },
  {
   "cell_type": "code",
   "execution_count": 4,
   "metadata": {},
   "outputs": [
    {
     "name": "stdout",
     "output_type": "stream",
     "text": [
      "720\n"
     ]
    }
   ],
   "source": [
    "def prod_lista(lista):\n",
    "    return lista[len(lista) - 1] * prod_lista(lista[:-1]) if len(lista) > 0 else 1\n",
    "print(prod_lista([6,5,3,4,2,1]))"
   ]
  },
  {
   "cell_type": "markdown",
   "metadata": {},
   "source": [
    "5 - Defina a função contem_parQ que recebe como argumento uma lista de números inteiros w e devolve True se w contém um número par e False em caso contrário."
   ]
  },
  {
   "cell_type": "code",
   "execution_count": 6,
   "metadata": {},
   "outputs": [
    {
     "name": "stdout",
     "output_type": "stream",
     "text": [
      "True\n",
      "True\n"
     ]
    }
   ],
   "source": [
    "def r_contem_parQ(w):\n",
    "        if len(w) == 0:\n",
    "            return False\n",
    "        else:\n",
    "            d = w.pop()\n",
    "            if d%2 == 0:\n",
    "                return True\n",
    "            else:\n",
    "                return r_contem_parQ(w)\n",
    "print(r_contem_parQ([5,5,3,1,8,9]))\n",
    "print(r_contem_parQ([1,2,0,7]))"
   ]
  },
  {
   "cell_type": "markdown",
   "metadata": {},
   "source": [
    "6 - Defina a função todos_imparesQ que recebe como argumento uma lista de números inteiros w e devolve True se w contém apenas números ímpares e False em caso contrário."
   ]
  },
  {
   "cell_type": "code",
   "execution_count": 3,
   "metadata": {},
   "outputs": [
    {
     "name": "stdout",
     "output_type": "stream",
     "text": [
      "False\n",
      "False\n"
     ]
    }
   ],
   "source": [
    "def r_todos_imparesQ(w):\n",
    "        if len(w) == 0:\n",
    "            return True\n",
    "        else:\n",
    "            d = w.pop()\n",
    "            if d %2 == 0:\n",
    "                return False\n",
    "            else:\n",
    "                return r_todos_imparesQ(w)\n",
    "print(r_todos_imparesQ([7,8,9,1,3,4]))\n",
    "print(r_todos_imparesQ([6,3,3,2]))\n"
   ]
  },
  {
   "cell_type": "markdown",
   "metadata": {},
   "source": [
    "7 - Defina a função pertenceQ que recebe como argumentos uma lista de números inteiros w e um número inteiro n e devolve True se n ocorre em w e False em caso contrário."
   ]
  },
  {
   "cell_type": "code",
   "execution_count": 1,
   "metadata": {},
   "outputs": [
    {
     "name": "stdout",
     "output_type": "stream",
     "text": [
      "False\n",
      "False\n"
     ]
    }
   ],
   "source": [
    "def r_pertenceQ(w):\n",
    "        if len(w) == 0:\n",
    "            return True\n",
    "        else:\n",
    "            d = w.pop()\n",
    "            if d %2 == 0:\n",
    "                return False\n",
    "            else:\n",
    "                return r_pertenceQ(w)\n",
    "print(r_pertenceQ([7,8,9,1,3,4]))\n",
    "print(r_pertenceQ([6,3,3,2]))"
   ]
  },
  {
   "cell_type": "markdown",
   "metadata": {},
   "source": [
    "\n",
    "8 - Defina a função junta que recebe como argumentos duas listas de números inteiros w1 e w2 e devolve a concatenação de w1 com w2 ."
   ]
  },
  {
   "cell_type": "code",
   "execution_count": 4,
   "metadata": {},
   "outputs": [
    {
     "name": "stdout",
     "output_type": "stream",
     "text": [
      "[1, 2, 3, 4, 5, 6]\n"
     ]
    }
   ],
   "source": [
    "def junta(w1, w2, x):\n",
    "    w1.append(w2[x]) if x >= 0 else print(\"Valor de indice inicial inválido\")\n",
    "    return w1 if x+1 == len(w2) else junta(w1,w2,x+1)\n",
    "    \n",
    "print(junta([1,2,3],[4,5,6],0))"
   ]
  },
  {
   "cell_type": "markdown",
   "metadata": {},
   "source": [
    "\n",
    "9 - Defina a função temPrimoQ que recebe como argumento uma lista de listas de números inteiros w e devolve True se alguma das sublistas w tem um número primo e False em caso contrário."
   ]
  },
  {
   "cell_type": "code",
   "execution_count": 5,
   "metadata": {},
   "outputs": [
    {
     "name": "stdout",
     "output_type": "stream",
     "text": [
      "True\n"
     ]
    }
   ],
   "source": [
    "from math import sqrt; from itertools import count, islice\n",
    "\n",
    "def isPrime(n):\n",
    "    return n > 1 and all(n%i for i in islice(count(2), int(sqrt(n)-1)))\n",
    "\n",
    "def hasPrime(l, i):\n",
    "    if i == len(l): return False\n",
    "    return True if isPrime(l[i]) else hasPrime(l, i+1)\n",
    "\n",
    "def verify(l,i):\n",
    "    if i == len(l): return False\n",
    "    return True if hasPrime(l[i],0) else verify(l,i+1)\n",
    "\n",
    "print(verify([[5,9,3],[2,7,6]],0))"
   ]
  },
  {
   "cell_type": "markdown",
   "metadata": {},
   "source": [
    "10 - Defina a função inverteLista que recebe como argumento uma lista w e devolve a mesma lista mas invertida."
   ]
  },
  {
   "cell_type": "code",
   "execution_count": 7,
   "metadata": {},
   "outputs": [
    {
     "name": "stdout",
     "output_type": "stream",
     "text": [
      "[1, 2, 5]\n"
     ]
    }
   ],
   "source": [
    "def inverteLista(l):\n",
    "    if len(l) == 0: return []\n",
    "    return [l[-1]] + inverteLista(l[:-1])\n",
    "\n",
    "print(inverteLista([5,2,1]))"
   ]
  }
 ],
 "metadata": {
  "kernelspec": {
   "display_name": "Python 3",
   "language": "python",
   "name": "python3"
  },
  "language_info": {
   "codemirror_mode": {
    "name": "ipython",
    "version": 3
   },
   "file_extension": ".py",
   "mimetype": "text/x-python",
   "name": "python",
   "nbconvert_exporter": "python",
   "pygments_lexer": "ipython3",
   "version": "3.6.7"
  }
 },
 "nbformat": 4,
 "nbformat_minor": 2
}
