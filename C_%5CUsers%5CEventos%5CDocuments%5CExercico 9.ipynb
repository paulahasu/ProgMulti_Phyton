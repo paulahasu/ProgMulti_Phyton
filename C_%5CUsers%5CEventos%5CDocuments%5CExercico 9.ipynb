{
 "cells": [
  {
   "cell_type": "markdown",
   "metadata": {},
   "source": [
    "Paula Akemi Hasu RA:817126817"
   ]
  },
  {
   "cell_type": "markdown",
   "metadata": {},
   "source": [
    "1 - Faça um Programa que peça o raio de um círculo, calcule e mostre sua área"
   ]
  },
  {
   "cell_type": "code",
   "execution_count": 1,
   "metadata": {},
   "outputs": [
    {
     "name": "stdout",
     "output_type": "stream",
     "text": [
      "Digite o raio 7\n",
      "153.86\n"
     ]
    }
   ],
   "source": [
    "x = float (input(\"Digite o raio \"))\n",
    "area = (3.14 * (x**2))\n",
    "print(area); "
   ]
  },
  {
   "cell_type": "markdown",
   "metadata": {},
   "source": [
    "2 - Faça um Programa que calcule a área de um quadrado, em seguida mostre o dobro desta área para o usuário"
   ]
  },
  {
   "cell_type": "code",
   "execution_count": 9,
   "metadata": {},
   "outputs": [
    {
     "name": "stdout",
     "output_type": "stream",
     "text": [
      "Digite lado do quadrado 4\n",
      "A area do quadrado: 64.0 \n",
      "Dobro da área: 128.0\n"
     ]
    }
   ],
   "source": [
    "l = float( input (\"Digite lado do quadrado \"))\n",
    "area = l**3;\n",
    "dobro_area = area * 2;\n",
    "print('A area do quadrado: {} \\nDobro da área: {}'.format(area, dobro_area))"
   ]
  },
  {
   "cell_type": "markdown",
   "metadata": {},
   "source": [
    "3 - Faça um Programa que pergunte quanto você ganha por hora e o número de horas trabalhadas no mês. Calcule e mostre o total do seu salário no referido mês"
   ]
  },
  {
   "cell_type": "code",
   "execution_count": 10,
   "metadata": {},
   "outputs": [
    {
     "name": "stdout",
     "output_type": "stream",
     "text": [
      "Digite o seu sálario por hora 60\n",
      "Digite o número de horas trabalhadas no mês 200\n",
      "Seu sálario é: R$ 12000.0\n"
     ]
    }
   ],
   "source": [
    "salario = float(input(\"Digite o seu sálario por hora \"))\n",
    "hora    = int(input(\"Digite o número de horas trabalhadas no mês \"))\n",
    "\n",
    "total   = salario * hora\n",
    "\n",
    "print('Seu sálario é: R$ {}'.format(total))"
   ]
  },
  {
   "cell_type": "markdown",
   "metadata": {},
   "source": [
    "4 - Faça um Programa que peça a temperatura em graus Farenheit, transforme e mostre a temperatura em graus Celsius. C = (5 * (F-32) / 9)"
   ]
  },
  {
   "cell_type": "code",
   "execution_count": 16,
   "metadata": {},
   "outputs": [
    {
     "name": "stdout",
     "output_type": "stream",
     "text": [
      "Digite a temperatura em graus Farenheit: 5\n",
      "Graus Celsius:     -15.00 °C\n"
     ]
    }
   ],
   "source": [
    "fh = int(input(\"Digite a temperatura em graus Farenheit: \"))\n",
    "\n",
    "ce = (5*(fh-32)/9)\n",
    "\n",
    "print(\"Graus Celsius: {0:10.2f} °C\".format(ce))"
   ]
  },
  {
   "cell_type": "markdown",
   "metadata": {},
   "source": [
    "5 - Faça um Programa que peça 2 números inteiros e um número real. Calcule e mostre:\n",
    "\n",
    "1 - o produto do dobro do primeiro com metade do segundo .\n",
    "2 - a soma do triplo do primeiro com o terceiro.\n",
    "3 - o terceiro elevado ao cubo."
   ]
  },
  {
   "cell_type": "code",
   "execution_count": 17,
   "metadata": {},
   "outputs": [
    {
     "name": "stdout",
     "output_type": "stream",
     "text": [
      "Digite um numero inteiro : 8\n",
      "Digite segundo numero inteiro: 2\n",
      "Digite um numero real: 12.5\n",
      "o produto do dobro do primeiro com metade do segundo é:  16.0\n",
      "a soma do triplo do primeiro com o terceiro é:  36.5\n",
      "o terceiro elevado ao cubo é:  1953.125\n"
     ]
    }
   ],
   "source": [
    "num1 = int(input(\"Digite um numero inteiro : \"))\n",
    "num2 = int(input(\"Digite segundo numero inteiro: \"))\n",
    "num3 = float(input(\"Digite um numero real: \"))\n",
    "\n",
    "met = (num1*2) / (num2/2)\n",
    "print(\"o produto do dobro do primeiro com metade do segundo é: \",met)\n",
    "met2 = (num1*3) + num3\n",
    "print(\"a soma do triplo do primeiro com o terceiro é: \",met2)\n",
    "met3 = num3**3\n",
    "print(\"o terceiro elevado ao cubo é: \",met3)"
   ]
  },
  {
   "cell_type": "markdown",
   "metadata": {},
   "source": [
    "7 João Papo-de-Pescador, homem de bem, comprou um microcomputador para controlar o rendimento diário de seu trabalho. Toda vez que ele traz um peso de peixes maior que o estabelecido pelo regulamento de pesca do estado de São Paulo (50 quilos) deve pagar uma multa de R$ 4,00 por quilo excedente. João precisa que você faça um programa que leia a variável peso (peso de peixes) e verifique se há excesso. Se houver, gravar na variável excesso e na variável multa o valor da multa que João deverá pagar. Caso contrário mostrar tais variáveis com o conteúdo ZERO."
   ]
  },
  {
   "cell_type": "code",
   "execution_count": 18,
   "metadata": {},
   "outputs": [
    {
     "name": "stdout",
     "output_type": "stream",
     "text": [
      "Digite o peso: 60\n",
      "Há excesso de  10.0 kg\n",
      "Assim o novo preço é: 40.0 reais\n"
     ]
    }
   ],
   "source": [
    "peso = float(input(\"Digite o peso: \"))\n",
    "\n",
    "if(peso > 50):\n",
    "    multa = peso - 50;\n",
    "    print(\"Há excesso de \",multa, \"kg\")\n",
    "    m = multa * 4;\n",
    "    print(\"Assim o novo preço é:\",m,\"reais\")\n",
    "else:\n",
    "    print(\"Sem excesso\")"
   ]
  },
  {
   "cell_type": "markdown",
   "metadata": {},
   "source": [
    "8 Faça um Programa que pergunte quanto você ganha por hora e o número de horas trabalhadas no mês. Calcule e mostre o total do seu salário no referido mês, sabendo-se que são descontados 11% para o Imposto de Renda, 8% para o INSS e 5% para o sindicato, faça um programa que nos dê:\n",
    "\n",
    "1 - salário bruto.\n",
    "2 - quanto pagou ao INSS.\n",
    "3 - quanto pagou ao sindicato.\n",
    "4 - o salário líquido.\n",
    "5 - calcule os descontos e o salário líquido"
   ]
  },
  {
   "cell_type": "code",
   "execution_count": 7,
   "metadata": {},
   "outputs": [
    {
     "name": "stdout",
     "output_type": "stream",
     "text": [
      "Digite o seu sálario por hora: 40\n",
      "Digite o número de horas trabalhadas no mês: 100\n",
      "Imposto de renda:  440.0 \n",
      " INSS:  320.0 \n",
      " Sindicato 200.0  \n",
      " Seu sálario é:  3040.0\n"
     ]
    }
   ],
   "source": [
    "sal_h = float(input(\"Digite o seu sálario por hora: \"))\n",
    "hora = int(input(\"Digite o número de horas trabalhadas no mês: \"))\n",
    "salario = sal_h * hora\n",
    "renda = salario * (11/100)\n",
    "inss  = salario * (8/100)\n",
    "sindicato_t = salario * (5/100)\n",
    "sal_liq = (salario - (renda + inss + sindicato_t))\n",
    "print('Imposto de renda: ',renda,'\\n INSS: ',inss,'\\n Sindicato',sindicato_t,' \\n Seu sálario é: ',sal_liq)"
   ]
  },
  {
   "cell_type": "markdown",
   "metadata": {},
   "source": [
    "9 - Faça um programa que leia 2 strings e informe o conteúdo delas seguido do seu comprimento. Informe também se as duas strings possuem o mesmo comprimento e são iguais ou diferentes no conteúdo"
   ]
  },
  {
   "cell_type": "code",
   "execution_count": 8,
   "metadata": {},
   "outputs": [
    {
     "name": "stdout",
     "output_type": "stream",
     "text": [
      "Digite uma string -> 20\n",
      "Digite a segunda string -> 1\n",
      "1 Tamanho de 20: 2 caracteres\n",
      "2 Tamanho de 1: 1 caracteres\n",
      "As duas strings possuem conteúdo diferente\n"
     ]
    }
   ],
   "source": [
    "string1 = input(\"Digite uma string -> \")\n",
    "string2 = input(\"Digite a segunda string -> \")\n",
    "\n",
    "tam = len(string1);\n",
    "tam2 = len(string2);\n",
    "\n",
    "print(\"1 Tamanho de {}: {} caracteres\\n2 Tamanho de {}: {} caracteres\".format(string1,len(string1),string2,len(string2)))\n",
    "if(tam == tam2):\n",
    "    print(\"As duas strings são de tamanhos iguais\")\n",
    "    \n",
    "else:\n",
    "    print(\"As duas strings possuem conteúdo diferente\")"
   ]
  },
  {
   "cell_type": "markdown",
   "metadata": {},
   "source": [
    "10 - Faça um programa que permita ao usuário digitar o seu nome e em seguida mostre o nome do usuário de trás para frente utilizando somente letras maiúsculas. Dica: lembre−se que ao informar o nome o usuário pode digitar letras maiúsculas ou minúsculas. Observação: não use loops."
   ]
  },
  {
   "cell_type": "code",
   "execution_count": 11,
   "metadata": {},
   "outputs": [
    {
     "name": "stdout",
     "output_type": "stream",
     "text": [
      "Digite seu nome Paula\n",
      "Seu nome de trás para frente ALUAP\n"
     ]
    }
   ],
   "source": [
    "nome = input(\"Digite seu nome \")\n",
    "i = nome[::-1]\n",
    "print(\"Seu nome de trás para frente {}\".format(i.upper()))"
   ]
  },
  {
   "cell_type": "markdown",
   "metadata": {},
   "source": [
    "11 - Faça um programa que solicite a data de nascimento (dd/mm/aaaa) do usuário e imprima a data com o nome do mês por extenso"
   ]
  },
  {
   "cell_type": "code",
   "execution_count": 13,
   "metadata": {},
   "outputs": [
    {
     "name": "stdout",
     "output_type": "stream",
     "text": [
      "Digite a data do seu nascimento (dd/mm/aaaa)18/08/1997\n",
      "Data de Nascimento: 18/08/1997\n",
      "Você nasceu em 18 de Agosto de 1997\n"
     ]
    }
   ],
   "source": [
    "data = input(\"Digite a data do seu nascimento (dd/mm/aaaa)\" )\n",
    "\n",
    "data1 = data[3]\n",
    "data2= data[4]\n",
    "\n",
    "m= data1 + data2\n",
    "\n",
    "dia = data[0] + data[1]\n",
    "\n",
    "ano = data[6:]\n",
    "\n",
    "calendario = {'01':'Janeiro','02':'Fevereiro','03':'Março','04':'Abril','05':'Maio','06':'Junho','07':'Julho','08':'Agosto','09':'Setembro','10':'Outubro','11':'Novembro','12':'Dezembro'}\n",
    "            \n",
    "print(\"Data de Nascimento: {}/{}/{}\\nVocê nasceu em {} de {} de {}\".format(dia,m,ano,dia,calendario[m],ano))"
   ]
  },
  {
   "cell_type": "markdown",
   "metadata": {},
   "source": [
    "12 - Leet é uma forma de se escrever o alfabeto latino usando outros símbolos em lugar das letras, como números por exemplo. A própria palavra leet admite muitas variações, como l33t ou 1337. O uso do leet reflete uma subcultura relacionada ao mundo dos jogos de computador e internet, sendo muito usada para confundir os iniciantes e afirmar-se como parte de um grupo. Pesquise sobre as principais formas de traduzir as letras. Depois, faça um programa que peça uma texto e transforme-o para a grafia leet speak"
   ]
  },
  {
   "cell_type": "code",
   "execution_count": 15,
   "metadata": {},
   "outputs": [
    {
     "name": "stdout",
     "output_type": "stream",
     "text": [
      "Tradução: 1521\n"
     ]
    }
   ],
   "source": [
    "t = \"leet\"\n",
    "e = 5\n",
    "s = 2\n",
    "t = 1\n",
    "\n",
    "print(\"Tradução: {}{}{}{}\".format(t,e,s,t))"
   ]
  },
  {
   "cell_type": "markdown",
   "metadata": {},
   "source": [
    "13 - Crie um programa que recebe uma lista de números e\n",
    "\n",
    "1 - retorne o maior elemento\n",
    "2 - retorne a soma dos elementos\n",
    "3 - retorne o número de ocorrências do primeiro elemento da lista\n",
    "4 - retorne a média dos elementos\n",
    "5 - retorne o valor mais próximo da média dos elementos\n",
    "6 - retorne a soma dos elementos com valor negativo\n",
    "7 - retorne a quantidade de vizinhos iguais"
   ]
  },
  {
   "cell_type": "code",
   "execution_count": 16,
   "metadata": {},
   "outputs": [
    {
     "name": "stdout",
     "output_type": "stream",
     "text": [
      "Insira o 1 elemento: 4\n",
      "Insira o 2 elemento: 9\n",
      "Insira o 3 elemento: 1\n",
      "Maior elemento:  9\n",
      "Soma dos elementos:  14\n",
      "Número de ocorrencias de 4: 1\n",
      "Média dos elementos:  4.666666666666667\n",
      "Número mais próximo da média:  4\n",
      "Soma dos elementos negativos:  0\n",
      "Vizinhos iguais:  0\n"
     ]
    }
   ],
   "source": [
    "list = [\n",
    "    int(input(\"Insira o 1 elemento: \")),\n",
    "    int(input(\"Insira o 2 elemento: \")),\n",
    "    int(input(\"Insira o 3 elemento: \"))\n",
    "]\n",
    "\n",
    "maior = list[0]\n",
    "soma = 0\n",
    "soma_Neg = 0\n",
    "numero_Ocorrencias_Primeiro = 0\n",
    "vizinhos = 0\n",
    "anterior = list[0] + 1\n",
    "\n",
    "for numero in list:\n",
    "    # maior\n",
    "    if numero > maior:\n",
    "        maior = numero\n",
    "    # soma\n",
    "    soma += numero\n",
    "    # num de ocorrencias do primeiro\n",
    "    if numero == list[0]:\n",
    "        numero_Ocorrencias_Primeiro += 1    \n",
    "    # soma de negativos\n",
    "    if numero < 0:\n",
    "        soma_Neg += numero\n",
    "    # vizinhos iguais\n",
    "    if numero == anterior:\n",
    "        vizinhos += 1\n",
    "    anterior = numero\n",
    "# media\n",
    "media = soma / len(list)\n",
    "\n",
    "maisProximo = list[0]\n",
    "diferenca = media - list[0]\n",
    "menorDiferenca = diferenca\n",
    "for numero in list:\n",
    "    #valor mais próximo da média\n",
    "    diferenca = media - numero\n",
    "    if diferenca < 0:\n",
    "        diferenca = diferenca * -1\n",
    "    if diferenca < menorDiferenca:\n",
    "        menorDiferenca = diferenca\n",
    "        maisProximo = numero\n",
    "        \n",
    "print(\"Maior elemento: \", maior)\n",
    "print(\"Soma dos elementos: \", soma)\n",
    "print(\"Número de ocorrencias de %i: %i\" % (list[0], numero_Ocorrencias_Primeiro))\n",
    "print(\"Média dos elementos: \", media)\n",
    "print(\"Número mais próximo da média: \", maisProximo)\n",
    "print(\"Soma dos elementos negativos: \", soma_Neg)\n",
    "print(\"Vizinhos iguais: \", vizinhos)"
   ]
  },
  {
   "cell_type": "markdown",
   "metadata": {},
   "source": [
    "14 - Faça um programa que receba duas listas e retorne True se são iguais ou False caso contrario. Duas listas são iguais se possuem os mesmos valores e na mesma ordem"
   ]
  },
  {
   "cell_type": "code",
   "execution_count": 17,
   "metadata": {},
   "outputs": [
    {
     "name": "stdout",
     "output_type": "stream",
     "text": [
      "As listas são iguais:  False\n",
      "As listas são iguais:  False\n",
      "As listas são iguais:  False\n"
     ]
    }
   ],
   "source": [
    "def saoIguais(lista1, lista2):\n",
    "    if len(lista1) == len(lista2):\n",
    "        for i in range(0, len(lista1)):\n",
    "            if lista1[i] != lista2[i]:\n",
    "                return False\n",
    "        return True\n",
    "    return False\n",
    "\n",
    "#listas iguais\n",
    "lista1, lista2 = [12, 14, 16], [6, 3, 9]\n",
    "print(\"As listas são iguais: \", saoIguais(lista1, lista2))\n",
    "# listas diferentes em ordem\n",
    "lista1, lista2 = [16, 1, 0], [40, 30, 10]\n",
    "print(\"As listas são iguais: \", saoIguais(lista1, lista2))\n",
    "# listas diferentes em tamanho\n",
    "lista1, lista2 = [4, 6], [20, 16, 9]\n",
    "print(\"As listas são iguais: \", saoIguais(lista1, lista2))"
   ]
  },
  {
   "cell_type": "markdown",
   "metadata": {},
   "source": [
    "16 - Faça um programa que percorre uma lista com o seguinte formato: [['Brasil', 'Italia', [10, 9]], ['Brasil', 'Espanha', [5, 7]], ['Italia', 'Espanha', [7,8]]]. Essa lista indica o número de faltas que cada time fez em cada jogo. Na lista acima, no jogo entre Brasil e Itália, o Brasil fez 10 faltas e a Itália fez 9. O programa deve imprimir na tela:\n",
    "\n",
    "1 - o total de faltas do campeonato\n",
    "2 - o time que fez mais faltas\n",
    "3 - o time que fez menos faltas"
   ]
  },
  {
   "cell_type": "code",
   "execution_count": 22,
   "metadata": {},
   "outputs": [
    {
     "name": "stdout",
     "output_type": "stream",
     "text": [
      "Soma:  45  Maior:  16  Menor:  14\n"
     ]
    }
   ],
   "source": [
    "num_falta = {'Brasil':15,'Italia':16,'Espanha':14}\n",
    "soma = sum(num_falta.values())\n",
    "maior = max(num_falta.values())\n",
    "menor = min(num_falta.values())\n",
    "print(\"Soma: \",soma,\" Maior: \",maior,\" Menor: \",menor)"
   ]
  },
  {
   "cell_type": "markdown",
   "metadata": {},
   "source": [
    "17 - Escreva um programa que conta a quantidade de vogais em uma string e armazena tal quantidade em um dicionário, onde a chave é a vogal considerada"
   ]
  },
  {
   "cell_type": "code",
   "execution_count": 24,
   "metadata": {},
   "outputs": [
    {
     "name": "stdout",
     "output_type": "stream",
     "text": [
      "{'A': 4, 'E': 1, 'I': 1, 'U': 2}\n"
     ]
    }
   ],
   "source": [
    "dicionario =\"Paula Akemi Hasu\"\n",
    "\n",
    "dicio={}\n",
    "dicmaior= dicionario.upper()\n",
    "if (\"A\" in dicmaior):\n",
    "    dicio['A']=dicmaior.count(\"A\")\n",
    "if (\"E\" in dicmaior):\n",
    "    dicio['E']=dicmaior.count(\"E\")\n",
    "if (\"I\" in dicmaior):\n",
    "    dicio['I']=dicmaior.count(\"I\")\n",
    "if (\"O\" in dicmaior):\n",
    "    dicio['O']=dicmaior.count(\"O\")\n",
    "if (\"U\" in dicmaior):\n",
    "    dicio['U']=dicmaior.count(\"U\")\n",
    "print(dicio)"
   ]
  },
  {
   "cell_type": "markdown",
   "metadata": {},
   "source": [
    "18 - Escreva um programa que lê duas notas de vários alunos e armazena tais notas em um dicionário, onde a chave é o nome do aluno. A entrada de dados deve terminar quando for lida uma string vazia como nome. Escreva uma função que retorna a média do aluno, dado seu nome"
   ]
  },
  {
   "cell_type": "code",
   "execution_count": 1,
   "metadata": {},
   "outputs": [
    {
     "name": "stdout",
     "output_type": "stream",
     "text": [
      "Insira o nome do aluno: Paula\n",
      "Insira a primeira nota: 10\n",
      "Insira a segunda nota: 10\n",
      "Insira o nome do aluno: Leandro\n",
      "Insira a primeira nota: 8\n",
      "Insira a segunda nota: 5\n",
      "Insira o nome do aluno: Marcus\n",
      "Insira a primeira nota: 10\n",
      "Insira a segunda nota: 9\n",
      "Insira o nome do aluno: Mariana\n",
      "Insira a primeira nota: 0\n",
      "Insira a segunda nota: 2\n",
      "Insira o nome do aluno: Kelly\n",
      "Insira a primeira nota: 8\n",
      "Insira a segunda nota: 3\n",
      "Insira o nome do aluno: Larissa\n",
      "Insira a primeira nota: 6\n",
      "Insira a segunda nota: 8\n",
      "Insira o nome do aluno: \n",
      "Insira o nome do aluno o qual deseja ver a média: Paula\n"
     ]
    },
    {
     "data": {
      "text/plain": [
       "10.0"
      ]
     },
     "execution_count": 1,
     "metadata": {},
     "output_type": "execute_result"
    }
   ],
   "source": [
    "dicionario = {}\n",
    "i = 0\n",
    "nome = input(\"Insira o nome do aluno: \")\n",
    "while nome != \"\":\n",
    "    dicionario[nome] = [\n",
    "        float(input(\"Insira a primeira nota: \")),\n",
    "        float(input(\"Insira a segunda nota: \"))\n",
    "        \n",
    "    ]\n",
    "    nome = input(\"Insira o nome do aluno: \")\n",
    "\n",
    "def media(nome):\n",
    "    return (dicionario[nome][0] + dicionario[nome][1]) / 2\n",
    "\n",
    "media(input(\"Insira o nome do aluno o qual deseja ver a média: \"))"
   ]
  },
  {
   "cell_type": "markdown",
   "metadata": {},
   "source": [
    "19 - Uma pista de Kart permite 10 voltas para cada um de 6 corredores. Escreva um programa que leia todos os tempos em segundos e os guarde em um dicionário, onde a chave é o nome do corredor. Ao final diga de quem foi a melhor volta da prova e em que volta; e ainda a classificação final em ordem (1o o campeão). O campeão é o que tem a menor média de tempos"
   ]
  },
  {
   "cell_type": "code",
   "execution_count": 3,
   "metadata": {},
   "outputs": [
    {
     "name": "stdout",
     "output_type": "stream",
     "text": [
      "1° lugar: Marcus - 36.3 segs.\n",
      "2° lugar: Daniela - 43.6 segs.\n",
      "3° lugar: Paula - 45.7 segs.\n",
      "4° lugar: Larissa - 48.3 segs.\n",
      "5° lugar: Fabiana - 48.6 segs.\n",
      "6° lugar: Thiago - 57.3 segs.\n"
     ]
    }
   ],
   "source": [
    "import operator\n",
    "\n",
    "dicionario = {\n",
    "    \"Paula\": [50, 60, 60, 53, 20, 30, 56, 78, 10, 40],\n",
    "    \"Marcus\": [40, 50, 72, 30, 44, 18, 32, 27, 17, 33],\n",
    "    \"Thiago\": [35, 67, 67, 90, 35, 79, 88, 45, 23, 44],\n",
    "    \"Daniela\": [12, 46, 45, 23, 30, 78, 56, 56, 34, 56],\n",
    "    \"Fabiana\": [89, 55, 37, 30, 22, 23, 70, 25, 65, 70],\n",
    "    \"Larissa\": [97, 45, 45, 2, 23, 23, 55, 67, 63, 63]\n",
    "}\n",
    "\n",
    "volta = 0\n",
    "medias = dicionario\n",
    "nome = \"\"\n",
    "melhorVolta = dicionario[\"Paula\"][0]\n",
    "for chave in dicionario:\n",
    "    soma = 0\n",
    "    for numero in dicionario[chave]:\n",
    "        if numero < melhorVolta:\n",
    "            melhorVolta = numero\n",
    "            nome = chave\n",
    "        soma += numero\n",
    "    medias[chave] = soma / 10\n",
    "\n",
    "#itemgeter 1 é a pos do valor do medias.items()\n",
    "sort = sorted(medias.items(), key=operator.itemgetter(1))\n",
    "for i in range(0, 6):\n",
    "    print(\"%s° lugar: %s - %s segs.\" % (i + 1, sort[i][0], sort[i][1]))"
   ]
  },
  {
   "cell_type": "markdown",
   "metadata": {},
   "source": [
    "20 - Escreva um programa para armazenar uma agenda de telefones em um dicionário. Cada pessoa pode ter um ou mais telefones e a chave do dicionário é o nome da pessoa. Seu programa deve ter as seguintes funções:\n",
    "\n",
    "1 - incluirNovoNome – essa função acrescenta um novo nome na agenda, com um ou mais telefones. Ela deve receber como argumentos o nome e os telefones.\n",
    "2 - incluirTelefone – essa função acrescenta um telefone em um nome existente na agenda. Caso o nome não exista na agenda, você̂ deve perguntar se a pessoa deseja inclui-lo. Caso a resposta seja afirmativa, use a função anterior para incluir o novo nome.\n",
    "3 - excluirTelefone – essa função exclui um telefone de uma pessoa que já está na agenda. Se a pessoa tiver apenas um telefone, ela deve ser excluída da agenda.\n",
    "4 - excluirNome – essa função exclui uma pessoa da agenda.\n",
    "5 - consultarTelefone – essa função retorna os telefones de uma pessoa na agenda."
   ]
  },
  {
   "cell_type": "code",
   "execution_count": 5,
   "metadata": {},
   "outputs": [
    {
     "name": "stdout",
     "output_type": "stream",
     "text": [
      "\n",
      "Escolha uma opção: \n",
      "1 - Incluir Novo Nome\n",
      "2 - Incluir Telefone\n",
      "3 - Excluir Telefone\n",
      "4 - Consultar Agenda\n",
      "0 - Encerrar Programa\n",
      "0\n"
     ]
    }
   ],
   "source": [
    "agenda = {}\n",
    "\n",
    "def incluir_Novo_Nome(nome, telefones):\n",
    "    global agenda\n",
    "    agenda[nome] = telefones\n",
    "    \n",
    "def incluir_Tel(nome, telefone):\n",
    "    global agenda\n",
    "    if nome in agenda.keys():\n",
    "        agenda[nome].append(telefone)\n",
    "    else:\n",
    "        if input(\"Essa pessoa não existe, incluir ela na agenda (s/n)? \") == \"s\":\n",
    "            telefones = [telefone]\n",
    "            incluir_Novo_Nome(nome, telefones)\n",
    "            \n",
    "def excluirTel(nome, telefone):\n",
    "    global agenda\n",
    "    if nome in agenda.keys():\n",
    "        if len(agenda[nome]) == 1:\n",
    "            del agenda[nome]\n",
    "        else:\n",
    "            for numero in range(0, len(agenda[nome]) - 1):\n",
    "                if telefone == agenda[nome][numero]:\n",
    "                    agenda[nome].pop(numero)\n",
    "        \n",
    "def consultarTel(nome):\n",
    "    global agenda\n",
    "    if nome in agenda.keys():\n",
    "        print(agenda[nome])\n",
    "    \n",
    "opcao = -1\n",
    "while opcao != 0:\n",
    "    opcao = int(input(\"\\nEscolha uma opção: \\n1 - Incluir Novo Nome\\n2 - Incluir Telefone\\n3 - Excluir Telefone\\n4 - Consultar Agenda\\n0 - Encerrar Programa\\n\"))\n",
    "    \n",
    "    # INSERIR NOVO NOME\n",
    "    if opcao == 1:\n",
    "        nome = input(\"Insira o nome da pessoa: \")\n",
    "        telefones = []\n",
    "        telefones.append(int(input(\"Insira um telefone da pessoa: \")))\n",
    "        telefone = -1\n",
    "        while telefone != 0:\n",
    "            telefone = int(input(\"Inserir outro telefone (ou digite 0 para parar): \"))\n",
    "            if telefone != 0:\n",
    "                telefones.append(telefone)\n",
    "        incluirNovoNome(nome, telefones)\n",
    "    # INCLUIR TELEFONE\n",
    "    elif opcao == 2:\n",
    "        nome = input(\"Insira o nome da pessoa: \")\n",
    "        telefone = int(input(\"Insira um novo telefone da pessoa: \"))\n",
    "        incluirTelefone(nome, telefone)\n",
    "    # EXCLUIR TELEFONE\n",
    "    elif opcao == 3:\n",
    "        nome = input(\"Insira o nome da pessoa: \")\n",
    "        telefone = int(input(\"Insira o telefone da pessoa a qual deseja excluir: \"))\n",
    "        excluirTelefone(nome, telefone)\n",
    "    elif opcao == 4:\n",
    "        consultar_Telefone(input(\"Insira o nome da pessoa: \"))"
   ]
  },
  {
   "cell_type": "markdown",
   "metadata": {},
   "source": [
    "21 - Faça um programa que leia um arquivo texto contendo uma lista de endereços IP e gere um outro arquivo, contendo um relatório dos endereços IP válidos e inválidos"
   ]
  },
  {
   "cell_type": "code",
   "execution_count": 1,
   "metadata": {},
   "outputs": [],
   "source": [
    "import socket\n",
    "\n",
    "ips_Validos = []\n",
    "ips_Invalidos = []\n",
    "\n",
    "ips = open(\"ips.txt\", \"w+\")\n",
    "for ip in ips:\n",
    "    try:\n",
    "        socket.inet_aton(ip)\n",
    "        # Validos\n",
    "        ips_Validos.append(ip)\n",
    "    except socket.error:\n",
    "        # Invalidos\n",
    "        ips_Invalidos.append(ip)\n",
    "        \n",
    "ips.close()\n",
    "\n",
    "saida = open(\"ipsvalidados.txt\", \"w+\")\n",
    "\n",
    "saida.write(\"[Endereços válidos:]\\n\")\n",
    "for ip in ips_Validos:\n",
    "    saida.write(ip)\n",
    "    \n",
    "saida.write(\"[Endereços inválidos:]\\n\")\n",
    "for ip in ips_Invalidos:\n",
    "    saida.write(ip)\n",
    "    \n",
    "saida.close()"
   ]
  },
  {
   "cell_type": "markdown",
   "metadata": {},
   "source": [
    "22 - A ACME Inc., uma empresa de 500 funcionários, está tendo problemas de espaço em disco no seu servidor de arquivos. Para tentar resolver este problema, o Administrador de Rede precisa saber qual o espaço ocupado pelos usuários, e identificar os usuários com maior espaço ocupado. Através de um programa, baixado da Internet, ele conseguiu gerar o seguinte arquivo, chamado \"usuarios.txt\":\n"
   ]
  },
  {
   "cell_type": "code",
   "execution_count": 8,
   "metadata": {},
   "outputs": [
    {
     "ename": "ZeroDivisionError",
     "evalue": "division by zero",
     "output_type": "error",
     "traceback": [
      "\u001b[0;31m---------------------------------------------------------------------------\u001b[0m",
      "\u001b[0;31mZeroDivisionError\u001b[0m                         Traceback (most recent call last)",
      "\u001b[0;32m<ipython-input-8-6282d280b9d2>\u001b[0m in \u001b[0;36m<module>\u001b[0;34m\u001b[0m\n\u001b[1;32m     13\u001b[0m     \u001b[0mtotal\u001b[0m \u001b[0;34m+=\u001b[0m \u001b[0mint\u001b[0m\u001b[0;34m(\u001b[0m\u001b[0mmemoria\u001b[0m\u001b[0;34m)\u001b[0m\u001b[0;34m\u001b[0m\u001b[0;34m\u001b[0m\u001b[0m\n\u001b[1;32m     14\u001b[0m \u001b[0musuarios\u001b[0m\u001b[0;34m.\u001b[0m\u001b[0mclose\u001b[0m\u001b[0;34m(\u001b[0m\u001b[0;34m)\u001b[0m\u001b[0;34m\u001b[0m\u001b[0;34m\u001b[0m\u001b[0m\n\u001b[0;32m---> 15\u001b[0;31m \u001b[0mmedia\u001b[0m\u001b[0;34m=\u001b[0m\u001b[0mtotal\u001b[0m\u001b[0;34m/\u001b[0m\u001b[0mlen\u001b[0m\u001b[0;34m(\u001b[0m\u001b[0mdic\u001b[0m\u001b[0;34m.\u001b[0m\u001b[0mkeys\u001b[0m\u001b[0;34m(\u001b[0m\u001b[0;34m)\u001b[0m\u001b[0;34m)\u001b[0m\u001b[0;34m\u001b[0m\u001b[0;34m\u001b[0m\u001b[0m\n\u001b[0m\u001b[1;32m     16\u001b[0m \u001b[0;34m\u001b[0m\u001b[0m\n\u001b[1;32m     17\u001b[0m \u001b[0mrelatorio\u001b[0m \u001b[0;34m=\u001b[0m \u001b[0mopen\u001b[0m\u001b[0;34m(\u001b[0m\u001b[0;34m\"relatório.txt\"\u001b[0m\u001b[0;34m,\u001b[0m \u001b[0;34m\"w+\"\u001b[0m\u001b[0;34m)\u001b[0m\u001b[0;34m\u001b[0m\u001b[0;34m\u001b[0m\u001b[0m\n",
      "\u001b[0;31mZeroDivisionError\u001b[0m: division by zero"
     ]
    }
   ],
   "source": [
    "def paraMb(tamanho):\n",
    "    return float(tamanho / (1024*1024))\n",
    "\n",
    "def uso_Mem(tamanho, total):\n",
    "    return float(tamanho / total) * 100\n",
    "\n",
    "dic = {}\n",
    "total = 1\n",
    "usuarios = open(\"usuarios.txt\", \"w+\")\n",
    "for usuario in usuarios:\n",
    "    nome, memoria = usuario.split(\" \")\n",
    "    dic[nome] = int(memoria)\n",
    "    total += int(memoria)\n",
    "usuarios.close()\n",
    "media=total/len(dic.keys())\n",
    "\n",
    "relatorio = open(\"relatório.txt\", \"w+\")\n",
    "relatorio.write(\"ACME Inc.               Uso do espaço em disco pelos usuários.\\n\")\n",
    "relatorio.write(\"--------------------------------------------------------------\\n\")\n",
    "relatorio.write(\"Nr.\\tUsuário \\tEspaço utilizado\\t% do uso\\n\")\n",
    "\n",
    "num = 1\n",
    "for usuario in dic:\n",
    "    relatorio.write(str(num) + \"\\t\" + usuario + \"\\t\" + \"{0:.2f}\".format(paraMb(dic[usuario])) + \" MB\\t\\t\" + \"{0:.2f}\".format(usoMemoria(dic[usuario], total)) + \"%\\n\")\n",
    "    num += 1\n",
    "    \n",
    "\n",
    "relatorio.write(\"Espaço total ocupado: \" + \"{0:.2f}\".format(paraMb(total)) + \"\\n\")\n",
    "relatorio.write(\"Espaço médio ocupado: \" + \"{0:.2f}\".format(paraMb(media)) + \"\\n\")\n",
    "\n",
    "relatorio.close()"
   ]
  },
  {
   "cell_type": "code",
   "execution_count": null,
   "metadata": {},
   "outputs": [],
   "source": []
  }
 ],
 "metadata": {
  "kernelspec": {
   "display_name": "Python 3",
   "language": "python",
   "name": "python3"
  },
  "language_info": {
   "codemirror_mode": {
    "name": "ipython",
    "version": 3
   },
   "file_extension": ".py",
   "mimetype": "text/x-python",
   "name": "python",
   "nbconvert_exporter": "python",
   "pygments_lexer": "ipython3",
   "version": "3.6.7"
  }
 },
 "nbformat": 4,
 "nbformat_minor": 2
}
