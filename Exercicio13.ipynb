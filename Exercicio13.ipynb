{
 "cells": [
  {
   "cell_type": "markdown",
   "metadata": {},
   "source": [
    "Paula Akemi Hasu RA:817126817"
   ]
  },
  {
   "cell_type": "markdown",
   "metadata": {},
   "source": [
    "1 - Defina a função soma_nat que recebe como argumento um número natural n e devolve a soma de todos os números naturais até n"
   ]
  },
  {
   "cell_type": "code",
   "execution_count": 2,
   "metadata": {},
   "outputs": [
    {
     "name": "stdout",
     "output_type": "stream",
     "text": [
      "10\n"
     ]
    }
   ],
   "source": [
    "l_soma = lambda n: 1 if n == 1 else n + l_soma(n - 1)\n",
    "print(l_soma(4))"
   ]
  },
  {
   "cell_type": "markdown",
   "metadata": {},
   "source": [
    "2 - Defina a função div que recebe como argumentos dois números naturais m e n e devolve o resultado da divisão inteira de m por n. Neste exercício você não pode recorrer às operações aritméticas de multiplicação, divisão e resto da divisão inteira."
   ]
  },
  {
   "cell_type": "code",
   "execution_count": 3,
   "metadata": {},
   "outputs": [
    {
     "name": "stdout",
     "output_type": "stream",
     "text": [
      "0\n"
     ]
    }
   ],
   "source": [
    "l_div = lambda m,n: 0 if m < n else 1 + l_div(m-n,n)\n",
    "print(l_div(3,8))"
   ]
  },
  {
   "cell_type": "markdown",
   "metadata": {},
   "source": [
    "3 - Defina a função prim_alg que recebe como argumento um número natural e devolve o primeiro algarismo (o mais significativo) na representação decimal de n."
   ]
  },
  {
   "cell_type": "code",
   "execution_count": 4,
   "metadata": {},
   "outputs": [
    {
     "name": "stdout",
     "output_type": "stream",
     "text": [
      "9\n"
     ]
    }
   ],
   "source": [
    "prim_alg = lambda nat: nat[0]\n",
    "print (prim_alg(\"9869\"))"
   ]
  },
  {
   "cell_type": "markdown",
   "metadata": {},
   "source": [
    "4 - Defina a função prod_lista que recebe como argumento uma lista de inteiros e devolve o produto dos seus elementos."
   ]
  },
  {
   "cell_type": "code",
   "execution_count": 5,
   "metadata": {},
   "outputs": [
    {
     "name": "stdout",
     "output_type": "stream",
     "text": [
      "1620\n"
     ]
    }
   ],
   "source": [
    "prod_lista = lambda lista: lista[len(lista) - 1] * prod_lista(lista[:-1]) if len(lista) > 0 else 1\n",
    "print(prod_lista([5,6,2,1,3,9]))"
   ]
  },
  {
   "cell_type": "markdown",
   "metadata": {},
   "source": [
    "5 - Defina a função contem_parQ que recebe como argumento uma lista de números inteiros w e devolve True se w contém um número par e False em caso contrário."
   ]
  },
  {
   "cell_type": "code",
   "execution_count": 6,
   "metadata": {},
   "outputs": [
    {
     "name": "stdout",
     "output_type": "stream",
     "text": [
      "True\n",
      "True\n"
     ]
    }
   ],
   "source": [
    "p_contem_parQ = lambda w: False if len(w) == 0 else True if w.pop()%2 == 0 else p_contem_parQ(w)\n",
    "print(p_contem_parQ([1,2,6,5,0,4]))\n",
    "print(p_contem_parQ([2,1,0,9]))"
   ]
  },
  {
   "cell_type": "markdown",
   "metadata": {},
   "source": [
    "6 - Defina a função todos_imparesQ que recebe como argumento uma lista de números inteiros w e devolve True se w contém apenas números ímpares e False em caso contrário"
   ]
  },
  {
   "cell_type": "code",
   "execution_count": 7,
   "metadata": {},
   "outputs": [
    {
     "name": "stdout",
     "output_type": "stream",
     "text": [
      "False\n",
      "True\n",
      "False\n",
      "False\n"
     ]
    }
   ],
   "source": [
    "p_todos_imparesQ = lambda w: True if w==[] or len(w)==1 else (False if w[len(w)-1]%2==0 \\\n",
    "else (w.pop(len(w)-1) and False) or (p_todos_imparesQ(w) and True))  \n",
    "\n",
    "\n",
    "print(p_todos_imparesQ([1,3,1,0]))\n",
    "print(p_todos_imparesQ([]))     \n",
    "print(p_todos_imparesQ([2,7,6,4,1]))\n",
    "print(p_todos_imparesQ([9,4,3,0]))"
   ]
  },
  {
   "cell_type": "markdown",
   "metadata": {},
   "source": [
    "7 - Defina a função pertenceQ que recebe como argumentos uma lista de números inteiros w e um número inteiro n e devolve True se n ocorre em w e False em caso contrário"
   ]
  },
  {
   "cell_type": "code",
   "execution_count": 9,
   "metadata": {},
   "outputs": [
    {
     "name": "stdout",
     "output_type": "stream",
     "text": [
      "False\n",
      "True\n",
      "False\n",
      "True\n"
     ]
    }
   ],
   "source": [
    "p_pertenceQ = lambda w: True if w==[] or len(w)==1 else (False if w[len(w)-1]%2==0 \\\n",
    "else (w.pop(len(w)-1) and False) or (p_pertenceQ (w) and True))  \n",
    "p_pertenceQ = lambda n: True if n==[] or len(n)==1 else (False if n[len(n)-1]%2==0 \\\n",
    "else (n.pop(len(n)-1) and False) or (p_pertenceQ (n) and True)) \n",
    "\n",
    "print(p_pertenceQ([1,3,1,0]))\n",
    "print(p_pertenceQ ([]))     \n",
    "print(p_pertenceQ ([2,4,6,8,0]))\n",
    "print(p_pertenceQ ([1,3,3,9]))"
   ]
  },
  {
   "cell_type": "markdown",
   "metadata": {},
   "source": [
    "8 - Defina a função junta que recebe como argumentos duas listas de números inteiros w1 e w2 e devolve a concatenação de w1 com w2 ."
   ]
  },
  {
   "cell_type": "code",
   "execution_count": 1,
   "metadata": {},
   "outputs": [
    {
     "name": "stdout",
     "output_type": "stream",
     "text": [
      "[6, 5, 4, 1, 2, 3]\n"
     ]
    }
   ],
   "source": [
    "from itertools import chain\n",
    "\n",
    "junta = lambda w1, w2: list(chain(*[w1,w2]))\n",
    "print(junta([6,5,4], [1,2,3]))"
   ]
  },
  {
   "cell_type": "markdown",
   "metadata": {},
   "source": [
    "9 - Defina a função temPrimoQ que recebe como argumento uma lista de listas de números inteiros w e devolve True se alguma das sublistas w tem um número primo e False em caso contrário."
   ]
  },
  {
   "cell_type": "code",
   "execution_count": 2,
   "metadata": {},
   "outputs": [
    {
     "name": "stdout",
     "output_type": "stream",
     "text": [
      "True\n"
     ]
    }
   ],
   "source": [
    "from math import sqrt; from itertools import count, islice\n",
    "\n",
    "isPrime = lambda n: n > 1 and all(n%i for i in islice(count(2), int(sqrt(n)-1)))\n",
    "hasPrime = lambda l, i: False if i == len(l) else True if  isPrime(l[i]) else hasPrime(l, i+1)\n",
    "temPrimoQ = lambda l, i: False if i == len(l) else True if hasPrime(l[i],0) else temPrimoQ(l,i+1)\n",
    "\n",
    "print(temPrimoQ([[2,4,6],[7,12,2]],0))"
   ]
  },
  {
   "cell_type": "markdown",
   "metadata": {},
   "source": [
    "10 - Defina a função inverteLista que recebe como argumento uma lista w e devolve a mesma lista mas invertida"
   ]
  },
  {
   "cell_type": "code",
   "execution_count": 3,
   "metadata": {},
   "outputs": [
    {
     "name": "stdout",
     "output_type": "stream",
     "text": [
      "[4, 3, 6, 9]\n"
     ]
    }
   ],
   "source": [
    "invertLista = lambda w: [] if len(w) == 0 else [w[-1]] + invertLista(w[:-1])\n",
    "\n",
    "print(invertLista([9,6,3,4]))"
   ]
  }
 ],
 "metadata": {
  "kernelspec": {
   "display_name": "Python 3",
   "language": "python",
   "name": "python3"
  },
  "language_info": {
   "codemirror_mode": {
    "name": "ipython",
    "version": 3
   },
   "file_extension": ".py",
   "mimetype": "text/x-python",
   "name": "python",
   "nbconvert_exporter": "python",
   "pygments_lexer": "ipython3",
   "version": "3.6.7"
  }
 },
 "nbformat": 4,
 "nbformat_minor": 2
}
